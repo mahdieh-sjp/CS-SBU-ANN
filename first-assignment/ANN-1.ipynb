{
 "cells": [
  {
   "cell_type": "markdown",
   "metadata": {
    "id": "WA6BO5kr1VpR"
   },
   "source": [
    "# 1st Assginment \n",
    "November 7, 2022"
   ]
  },
  {
   "cell_type": "markdown",
   "metadata": {
    "id": "7klBjiZs8gLL"
   },
   "source": [
    "## Exercise 2"
   ]
  },
  {
   "cell_type": "markdown",
   "metadata": {
    "id": "SuSvJTpMX7UF"
   },
   "source": [
    "### Loading Dataset"
   ]
  },
  {
   "cell_type": "code",
   "execution_count": null,
   "metadata": {
    "colab": {
     "base_uri": "https://localhost:8080/"
    },
    "id": "8bb0E-IqQaXw",
    "outputId": "6182b055-79c4-45ad-d5fd-57b8f04ce57b"
   },
   "outputs": [
    {
     "data": {
      "text/plain": [
       "<torch._C.Generator at 0x7f1c8bb532f0>"
      ]
     },
     "execution_count": 1,
     "metadata": {},
     "output_type": "execute_result"
    }
   ],
   "source": [
    "import torch\n",
    "from collections import OrderedDict\n",
    "import torchvision\n",
    "import torch.nn as nn\n",
    "import torch.nn.functional as F\n",
    "from torchvision import datasets, transforms\n",
    "import matplotlib.pyplot as plt\n",
    "from torch import optim\n",
    "import numpy as np\n",
    "%matplotlib inline\n",
    "torch.manual_seed(101)"
   ]
  },
  {
   "cell_type": "code",
   "execution_count": null,
   "metadata": {
    "id": "TGk2X4Qh-Jw3"
   },
   "outputs": [],
   "source": [
    "transform = transforms.ToTensor()"
   ]
  },
  {
   "cell_type": "code",
   "execution_count": null,
   "metadata": {
    "colab": {
     "base_uri": "https://localhost:8080/",
     "height": 551,
     "referenced_widgets": [
      "72c99c4f84134661b504ed19f142dda1",
      "ad47b1ae14c442b1b0ee2df7c35f949d",
      "e7392bef5ddd44b6b087d400515648d7",
      "eee6a674c1f24a3d8adbf5ddae3e53cd",
      "a406ce1436ef412cb53b5d877c417754",
      "77a9c64b73dd423d95ee45981286fa77",
      "0b918e0b3acd45859f62824e0e94ab51",
      "8789bbe5411d4b5cb87d07c70e651840",
      "a4d4b9a8afbd483d99e5df21930497b0",
      "04d6a208695241ffa30ff751c523473a",
      "92b29c58e33f4904815fbe22d209bdff",
      "feb1cfba613b4dc9ac39002f585bf130",
      "621a7b1a6c33402b89c7737a3012016f",
      "cd26716191f44f14b0ea26c265949511",
      "775f0f84fafc4836be9a182d20f38301",
      "d55bc08cb1f9473799c32d0ee45a9be6",
      "02cf1610e43b4eff94f318d36d0c4d35",
      "08e809d0568646949e956006d909b280",
      "ea78da1823e0470390c9f8eaebe0f2e7",
      "d2fd950db08d48d99fd4769968f886f4",
      "ab7b614d6d9248ada1ecc5913c6318a6",
      "3a5a7dfe5fa944a8a72c4e63c320b22e",
      "172ad707f0854fd99c796159717a6f60",
      "5fe0c885d2644ba9ac05444c2b9c4a11",
      "1782e2135ef64a03952f3ba0c182402e",
      "0ac5e22b3fcc4790a32375682959b265",
      "5c0387a88d67453a9ab5836f9db2861a",
      "43bdccc6f99e463ca4e368806a1384fe",
      "c50fe93758224ce88dff41fce50af008",
      "2c2de74532974f2e86e63b1a4f483820",
      "e61a8379c86a4046a118bb999781ff32",
      "e176e20098a14008bd036b951b9d183c",
      "5802fd2be8b945309a0968dbe7a1d5af",
      "bd4459f608d6476ea196e3eb28a04bf6",
      "11448747edaa4e53a6383c57154ecab7",
      "bc81be71146d4a12a37e9f87772b67bd",
      "d89d02aa4daa4ca296bd01f6153b13c6",
      "2e73adcf840441a3a34f7903539cf12e",
      "cc6f52a0d29b42ec9fd75a3de520611c",
      "77df96d85dab46f3a8fa589e09b34036",
      "f0fcd120615c4db39a647272e8a24e5c",
      "f78ca701f6f54dc7ab35e2f3db09a84b",
      "2fa66d38eb7b402fa49713efc4b6bede",
      "2c6e50f3babf47d58db885e38a35afbe"
     ]
    },
    "id": "9x_I6auf-MH0",
    "outputId": "37a242aa-e3c6-47f3-9f4d-16672c8de526"
   },
   "outputs": [
    {
     "name": "stdout",
     "output_type": "stream",
     "text": [
      "Downloading http://fashion-mnist.s3-website.eu-central-1.amazonaws.com/train-images-idx3-ubyte.gz\n",
      "Downloading http://fashion-mnist.s3-website.eu-central-1.amazonaws.com/train-images-idx3-ubyte.gz to /root/.pytorch/MNIST_data/FashionMNIST/raw/train-images-idx3-ubyte.gz\n"
     ]
    },
    {
     "data": {
      "application/vnd.jupyter.widget-view+json": {
       "model_id": "72c99c4f84134661b504ed19f142dda1",
       "version_major": 2,
       "version_minor": 0
      },
      "text/plain": [
       "  0%|          | 0/26421880 [00:00<?, ?it/s]"
      ]
     },
     "metadata": {},
     "output_type": "display_data"
    },
    {
     "name": "stdout",
     "output_type": "stream",
     "text": [
      "Extracting /root/.pytorch/MNIST_data/FashionMNIST/raw/train-images-idx3-ubyte.gz to /root/.pytorch/MNIST_data/FashionMNIST/raw\n",
      "\n",
      "Downloading http://fashion-mnist.s3-website.eu-central-1.amazonaws.com/train-labels-idx1-ubyte.gz\n",
      "Downloading http://fashion-mnist.s3-website.eu-central-1.amazonaws.com/train-labels-idx1-ubyte.gz to /root/.pytorch/MNIST_data/FashionMNIST/raw/train-labels-idx1-ubyte.gz\n"
     ]
    },
    {
     "data": {
      "application/vnd.jupyter.widget-view+json": {
       "model_id": "feb1cfba613b4dc9ac39002f585bf130",
       "version_major": 2,
       "version_minor": 0
      },
      "text/plain": [
       "  0%|          | 0/29515 [00:00<?, ?it/s]"
      ]
     },
     "metadata": {},
     "output_type": "display_data"
    },
    {
     "name": "stdout",
     "output_type": "stream",
     "text": [
      "Extracting /root/.pytorch/MNIST_data/FashionMNIST/raw/train-labels-idx1-ubyte.gz to /root/.pytorch/MNIST_data/FashionMNIST/raw\n",
      "\n",
      "Downloading http://fashion-mnist.s3-website.eu-central-1.amazonaws.com/t10k-images-idx3-ubyte.gz\n",
      "Downloading http://fashion-mnist.s3-website.eu-central-1.amazonaws.com/t10k-images-idx3-ubyte.gz to /root/.pytorch/MNIST_data/FashionMNIST/raw/t10k-images-idx3-ubyte.gz\n"
     ]
    },
    {
     "data": {
      "application/vnd.jupyter.widget-view+json": {
       "model_id": "172ad707f0854fd99c796159717a6f60",
       "version_major": 2,
       "version_minor": 0
      },
      "text/plain": [
       "  0%|          | 0/4422102 [00:00<?, ?it/s]"
      ]
     },
     "metadata": {},
     "output_type": "display_data"
    },
    {
     "name": "stdout",
     "output_type": "stream",
     "text": [
      "Extracting /root/.pytorch/MNIST_data/FashionMNIST/raw/t10k-images-idx3-ubyte.gz to /root/.pytorch/MNIST_data/FashionMNIST/raw\n",
      "\n",
      "Downloading http://fashion-mnist.s3-website.eu-central-1.amazonaws.com/t10k-labels-idx1-ubyte.gz\n",
      "Downloading http://fashion-mnist.s3-website.eu-central-1.amazonaws.com/t10k-labels-idx1-ubyte.gz to /root/.pytorch/MNIST_data/FashionMNIST/raw/t10k-labels-idx1-ubyte.gz\n"
     ]
    },
    {
     "data": {
      "application/vnd.jupyter.widget-view+json": {
       "model_id": "bd4459f608d6476ea196e3eb28a04bf6",
       "version_major": 2,
       "version_minor": 0
      },
      "text/plain": [
       "  0%|          | 0/5148 [00:00<?, ?it/s]"
      ]
     },
     "metadata": {},
     "output_type": "display_data"
    },
    {
     "name": "stdout",
     "output_type": "stream",
     "text": [
      "Extracting /root/.pytorch/MNIST_data/FashionMNIST/raw/t10k-labels-idx1-ubyte.gz to /root/.pytorch/MNIST_data/FashionMNIST/raw\n",
      "\n"
     ]
    },
    {
     "data": {
      "text/plain": [
       "Dataset FashionMNIST\n",
       "    Number of datapoints: 60000\n",
       "    Root location: /root/.pytorch/MNIST_data/\n",
       "    Split: Train\n",
       "    StandardTransform\n",
       "Transform: ToTensor()"
      ]
     },
     "execution_count": 3,
     "metadata": {},
     "output_type": "execute_result"
    }
   ],
   "source": [
    "trainset = torchvision.datasets.FashionMNIST('~/.pytorch/MNIST_data/', train=True, transform=transform, download=True)\n",
    "trainset"
   ]
  },
  {
   "cell_type": "code",
   "execution_count": null,
   "metadata": {
    "colab": {
     "base_uri": "https://localhost:8080/"
    },
    "id": "SKufFko--RZR",
    "outputId": "baf08540-0886-467d-b595-96f3d1a2ab9f"
   },
   "outputs": [
    {
     "data": {
      "text/plain": [
       "Dataset FashionMNIST\n",
       "    Number of datapoints: 10000\n",
       "    Root location: /root/.pytorch/MNIST_data/\n",
       "    Split: Test\n",
       "    StandardTransform\n",
       "Transform: ToTensor()"
      ]
     },
     "execution_count": 4,
     "metadata": {},
     "output_type": "execute_result"
    }
   ],
   "source": [
    "testset = torchvision.datasets.FashionMNIST('~/.pytorch/MNIST_data/', train=False, transform=transform, download=True)\n",
    "testset"
   ]
  },
  {
   "cell_type": "code",
   "execution_count": null,
   "metadata": {
    "colab": {
     "base_uri": "https://localhost:8080/",
     "height": 283
    },
    "id": "Ait_Gl6e-hyz",
    "outputId": "6a83566c-1f46-4bcc-9b8a-78242eac9e51"
   },
   "outputs": [
    {
     "data": {
      "text/plain": [
       "<matplotlib.image.AxesImage at 0x7f1c87f58c50>"
      ]
     },
     "execution_count": 5,
     "metadata": {},
     "output_type": "execute_result"
    },
    {
     "data": {
      "image/png": "[encoded data removed]",
      "text/plain": [
       "<Figure size 432x288 with 1 Axes>"
      ]
     },
     "metadata": {
      "needs_background": "light"
     },
     "output_type": "display_data"
    }
   ],
   "source": [
    "img, lbl = trainset[0]\n",
    "plt.imshow(img.reshape((28,28)))"
   ]
  },
  {
   "cell_type": "code",
   "execution_count": null,
   "metadata": {
    "id": "WG5kSVt4Tqos"
   },
   "outputs": [],
   "source": [
    "trainloader = torch.utils.data.DataLoader(trainset, batch_size=100, shuffle=True)\n",
    "testloader = torch.utils.data.DataLoader(testset, batch_size=500, shuffle=True)\n"
   ]
  },
  {
   "cell_type": "code",
   "execution_count": null,
   "metadata": {
    "colab": {
     "base_uri": "https://localhost:8080/"
    },
    "id": "saxnZxjy77j9",
    "outputId": "217fc636-0954-4be9-807a-33b8b2837a74"
   },
   "outputs": [
    {
     "name": "stdout",
     "output_type": "stream",
     "text": [
      "torch.Size([60000, 28, 28])\n",
      "torch.Size([10000, 28, 28])\n"
     ]
    },
    {
     "name": "stderr",
     "output_type": "stream",
     "text": [
      "/usr/local/lib/python3.7/dist-packages/torchvision/datasets/mnist.py:75: UserWarning: train_data has been renamed data\n",
      "  warnings.warn(\"train_data has been renamed data\")\n",
      "/usr/local/lib/python3.7/dist-packages/torchvision/datasets/mnist.py:80: UserWarning: test_data has been renamed data\n",
      "  warnings.warn(\"test_data has been renamed data\")\n"
     ]
    }
   ],
   "source": [
    "print(trainloader.dataset.train_data.shape)\n",
    "print(testloader.dataset.test_data.shape)\n"
   ]
  },
  {
   "cell_type": "code",
   "execution_count": null,
   "metadata": {
    "id": "JMyd6Q0ZKGfv"
   },
   "outputs": [],
   "source": [
    "input_size = trainloader.dataset.train_data.shape[1] * trainloader.dataset.train_data.shape[2]\n",
    "output_size = 10"
   ]
  },
  {
   "cell_type": "markdown",
   "metadata": {
    "id": "eX-YK5XM-X5z"
   },
   "source": [
    "### A) The effect of different hidden layers"
   ]
  },
  {
   "cell_type": "markdown",
   "metadata": {
    "id": "AcAuX2KhYT-A"
   },
   "source": [
    "\n",
    "#### 1) 1 hidden layer"
   ]
  },
  {
   "cell_type": "code",
   "execution_count": null,
   "metadata": {
    "id": "5ynDwwyu60Py"
   },
   "outputs": [],
   "source": [
    "hidden_layers_1 = [80]"
   ]
  },
  {
   "cell_type": "code",
   "execution_count": null,
   "metadata": {
    "colab": {
     "base_uri": "https://localhost:8080/"
    },
    "id": "Xij0DP5p631O",
    "outputId": "27786a45-af5c-46ba-e65e-720a36e10cfc"
   },
   "outputs": [
    {
     "name": "stdout",
     "output_type": "stream",
     "text": [
      "Sequential(\n",
      "  (0): Linear(in_features=784, out_features=80, bias=True)\n",
      "  (1): ReLU()\n",
      "  (2): Linear(in_features=80, out_features=10, bias=True)\n",
      "  (3): LogSoftmax(dim=1)\n",
      ")\n"
     ]
    }
   ],
   "source": [
    "model = nn.Sequential(\n",
    "    nn.Linear(input_size, hidden_layers_1[0]),\n",
    "    nn.ReLU(),\n",
    "    nn.Linear(hidden_layers_1[0], output_size),\n",
    "    nn.LogSoftmax(dim=1)\n",
    ")\n",
    "print(model)"
   ]
  },
  {
   "cell_type": "code",
   "execution_count": null,
   "metadata": {
    "id": "Yvp3482z7CiY"
   },
   "outputs": [],
   "source": [
    "criterion = nn.CrossEntropyLoss()\n",
    "optimizer = optim.Adam(model.parameters(), lr=0.001)"
   ]
  },
  {
   "cell_type": "code",
   "execution_count": null,
   "metadata": {
    "colab": {
     "base_uri": "https://localhost:8080/"
    },
    "id": "lZy26agt7E_0",
    "outputId": "7d2f7d33-057a-4bad-d991-68b70a491b7e"
   },
   "outputs": [
    {
     "name": "stdout",
     "output_type": "stream",
     "text": [
      "epoch 1:\n",
      "Train loss: 0.36897281, Train accuracy: 79.778%\n",
      "Test loss: 0.53398150, Test accuracy: 82.970%\n",
      "epoch 2:\n",
      "Train loss: 0.32984689, Train accuracy: 85.295%\n",
      "Test loss: 0.44292355, Test accuracy: 85.140%\n",
      "epoch 3:\n",
      "Train loss: 0.33915702, Train accuracy: 86.552%\n",
      "Test loss: 0.42073894, Test accuracy: 85.600%\n",
      "epoch 4:\n",
      "Train loss: 0.28992972, Train accuracy: 87.308%\n",
      "Test loss: 0.35143018, Test accuracy: 86.410%\n",
      "epoch 5:\n",
      "Train loss: 0.33270881, Train accuracy: 88.025%\n",
      "Test loss: 0.37708926, Test accuracy: 86.970%\n",
      "epoch 6:\n",
      "Train loss: 0.48304173, Train accuracy: 88.528%\n",
      "Test loss: 0.44913384, Test accuracy: 85.580%\n",
      "epoch 7:\n",
      "Train loss: 0.26390827, Train accuracy: 88.913%\n",
      "Test loss: 0.32953289, Test accuracy: 86.780%\n",
      "epoch 8:\n",
      "Train loss: 0.25477442, Train accuracy: 89.120%\n",
      "Test loss: 0.33709067, Test accuracy: 87.230%\n",
      "epoch 9:\n",
      "Train loss: 0.24408440, Train accuracy: 89.545%\n",
      "Test loss: 0.35516199, Test accuracy: 87.360%\n",
      "epoch 10:\n",
      "Train loss: 0.31910804, Train accuracy: 89.828%\n",
      "Test loss: 0.38448051, Test accuracy: 88.070%\n"
     ]
    }
   ],
   "source": [
    "epochs = 10\n",
    "train_losses_1 = []\n",
    "test_losses_1 = []\n",
    "train_correct_1 = []\n",
    "test_correct_1 = []\n",
    "for e in range(epochs):\n",
    "    trn_corr = 0\n",
    "    tst_corr = 0\n",
    "    for x_train, y_train in trainloader:\n",
    "        y_pred = model(x_train.view(x_train.shape[0], -1))\n",
    "        loss = criterion(y_pred, y_train)\n",
    "\n",
    "        predicted = torch.max(y_pred.data, 1)[1]\n",
    "        batch_corr = (predicted == y_train).sum()\n",
    "\n",
    "        trn_corr += batch_corr\n",
    "\n",
    "        optimizer.zero_grad() \n",
    "        loss.backward()\n",
    "        optimizer.step()\n",
    "        \n",
    "    train_losses_1.append(loss)\n",
    "    train_correct_1.append(trn_corr)\n",
    "\n",
    "    print(f\"epoch {e+1}:\")    \n",
    "    print(f\"Train loss: {train_losses_1[-1].item():10.8f}, Train accuracy: {train_correct_1[-1].item()/600:.3f}%\")\n",
    "\n",
    "    with torch.no_grad():\n",
    "        for x_test, y_test in testloader:\n",
    "            y_val = model(x_test.view(x_test.shape[0], -1))\n",
    "            predicted = torch.max(y_val.data, 1)[1]\n",
    "            tst_corr += (predicted == y_test).sum()\n",
    "\n",
    "    loss = criterion(y_val, y_test)\n",
    "    test_losses_1.append(loss)\n",
    "    test_correct_1.append(tst_corr)\n",
    "    print(f\"Test loss: {test_losses_1[-1].item():10.8f}, Test accuracy: {test_correct_1[-1].item()/100:.3f}%\")"
   ]
  },
  {
   "cell_type": "markdown",
   "metadata": {
    "id": "yo5jOQtD-dgT"
   },
   "source": [
    "#### 2) 3 hidden layers"
   ]
  },
  {
   "cell_type": "code",
   "execution_count": null,
   "metadata": {
    "id": "9812Z_1d6xmW"
   },
   "outputs": [],
   "source": [
    "hidden_layers_3 = [180, 120, 60]"
   ]
  },
  {
   "cell_type": "code",
   "execution_count": null,
   "metadata": {
    "colab": {
     "base_uri": "https://localhost:8080/"
    },
    "id": "gCk7ML3FXgBh",
    "outputId": "36832a75-4024-402c-e222-d53382c1ec80"
   },
   "outputs": [
    {
     "name": "stdout",
     "output_type": "stream",
     "text": [
      "Sequential(\n",
      "  (0): Linear(in_features=784, out_features=180, bias=True)\n",
      "  (1): ReLU()\n",
      "  (2): Linear(in_features=180, out_features=120, bias=True)\n",
      "  (3): ReLU()\n",
      "  (4): Linear(in_features=120, out_features=60, bias=True)\n",
      "  (5): ReLU()\n",
      "  (6): Linear(in_features=60, out_features=10, bias=True)\n",
      "  (7): LogSoftmax(dim=1)\n",
      ")\n"
     ]
    }
   ],
   "source": [
    "model = nn.Sequential(\n",
    "    nn.Linear(input_size, hidden_layers_3[0]),\n",
    "    nn.ReLU(),\n",
    "    nn.Linear(hidden_layers_3[0], hidden_layers_3[1]),\n",
    "    nn.ReLU(),\n",
    "    nn.Linear(hidden_layers_3[1], hidden_layers_3[2]),\n",
    "    nn.ReLU(),\n",
    "    nn.Linear(hidden_layers_3[2], output_size),\n",
    "    nn.LogSoftmax(dim=1)\n",
    ")\n",
    "print(model)"
   ]
  },
  {
   "cell_type": "code",
   "execution_count": null,
   "metadata": {
    "id": "PfY_caHP_5_J"
   },
   "outputs": [],
   "source": [
    "criterion = nn.CrossEntropyLoss()\n",
    "optimizer = optim.Adam(model.parameters(), lr=0.001)"
   ]
  },
  {
   "cell_type": "code",
   "execution_count": null,
   "metadata": {
    "colab": {
     "base_uri": "https://localhost:8080/"
    },
    "id": "oq9tVrJs3XkQ",
    "outputId": "f402e6e7-a978-4c8e-8269-901972676bfc"
   },
   "outputs": [
    {
     "name": "stdout",
     "output_type": "stream",
     "text": [
      "epoch 1:\n",
      "Train loss: 0.47073245, Train accuracy: 78.532%\n",
      "Test loss: 0.49954468, Test accuracy: 82.670%\n",
      "epoch 2:\n",
      "Train loss: 0.44456518, Train accuracy: 85.803%\n",
      "Test loss: 0.35438660, Test accuracy: 84.860%\n",
      "epoch 3:\n",
      "Train loss: 0.42037022, Train accuracy: 87.145%\n",
      "Test loss: 0.35262835, Test accuracy: 86.140%\n",
      "epoch 4:\n",
      "Train loss: 0.27638173, Train accuracy: 87.987%\n",
      "Test loss: 0.42004120, Test accuracy: 86.290%\n",
      "epoch 5:\n",
      "Train loss: 0.24862392, Train accuracy: 88.718%\n",
      "Test loss: 0.32620305, Test accuracy: 86.270%\n",
      "epoch 6:\n",
      "Train loss: 0.32978794, Train accuracy: 89.205%\n",
      "Test loss: 0.40204030, Test accuracy: 87.750%\n",
      "epoch 7:\n",
      "Train loss: 0.17772159, Train accuracy: 89.807%\n",
      "Test loss: 0.36389658, Test accuracy: 87.570%\n",
      "epoch 8:\n",
      "Train loss: 0.24595585, Train accuracy: 90.010%\n",
      "Test loss: 0.35267431, Test accuracy: 87.580%\n",
      "epoch 9:\n",
      "Train loss: 0.20328863, Train accuracy: 90.533%\n",
      "Test loss: 0.33064154, Test accuracy: 88.070%\n",
      "epoch 10:\n",
      "Train loss: 0.24697308, Train accuracy: 90.843%\n",
      "Test loss: 0.28419235, Test accuracy: 88.610%\n"
     ]
    }
   ],
   "source": [
    "epochs = 10\n",
    "train_losses_3 = []\n",
    "test_losses_3 = []\n",
    "train_correct_3 = []\n",
    "test_correct_3 = []\n",
    "for e in range(epochs):\n",
    "    trn_corr = 0\n",
    "    tst_corr = 0\n",
    "    for x_train, y_train in trainloader:\n",
    "        y_pred = model(x_train.view(x_train.shape[0], -1))\n",
    "        loss = criterion(y_pred, y_train)\n",
    "\n",
    "        predicted = torch.max(y_pred.data, 1)[1]\n",
    "        batch_corr = (predicted == y_train).sum()\n",
    "\n",
    "        trn_corr += batch_corr\n",
    "\n",
    "        optimizer.zero_grad() \n",
    "        loss.backward()\n",
    "        optimizer.step()\n",
    "        \n",
    "    train_losses_3.append(loss)\n",
    "    train_correct_3.append(trn_corr)\n",
    "\n",
    "    print(f\"epoch {e+1}:\")    \n",
    "    print(f\"Train loss: {train_losses_3[-1].item():10.8f}, Train accuracy: {train_correct_3[-1].item()/600:.3f}%\")\n",
    "\n",
    "    with torch.no_grad():\n",
    "        for x_test, y_test in testloader:\n",
    "            y_val = model(x_test.view(x_test.shape[0], -1))\n",
    "            predicted = torch.max(y_val.data, 1)[1]\n",
    "            tst_corr += (predicted == y_test).sum()\n",
    "\n",
    "    loss = criterion(y_val, y_test)\n",
    "    test_losses_3.append(loss)\n",
    "    test_correct_3.append(tst_corr)\n",
    "    print(f\"Test loss: {test_losses_3[-1].item():10.8f}, Test accuracy: {test_correct_3[-1].item()/100:.3f}%\")"
   ]
  },
  {
   "cell_type": "markdown",
   "metadata": {
    "id": "8es0RvVv-hJQ"
   },
   "source": [
    "#### 3) 5 hidden layers"
   ]
  },
  {
   "cell_type": "code",
   "execution_count": null,
   "metadata": {
    "id": "SSX2q8d39clX"
   },
   "outputs": [],
   "source": [
    "hidden_layers_5 = [300, 240, 180, 120, 60]"
   ]
  },
  {
   "cell_type": "code",
   "execution_count": null,
   "metadata": {
    "colab": {
     "base_uri": "https://localhost:8080/"
    },
    "id": "rn5UJ3uF9iqf",
    "outputId": "8eb6b1f2-971c-481c-834e-f765141a6926"
   },
   "outputs": [
    {
     "name": "stdout",
     "output_type": "stream",
     "text": [
      "Sequential(\n",
      "  (0): Linear(in_features=784, out_features=300, bias=True)\n",
      "  (1): ReLU()\n",
      "  (2): Linear(in_features=300, out_features=240, bias=True)\n",
      "  (3): ReLU()\n",
      "  (4): Linear(in_features=240, out_features=180, bias=True)\n",
      "  (5): ReLU()\n",
      "  (6): Linear(in_features=180, out_features=120, bias=True)\n",
      "  (7): ReLU()\n",
      "  (8): Linear(in_features=120, out_features=60, bias=True)\n",
      "  (9): ReLU()\n",
      "  (10): Linear(in_features=60, out_features=10, bias=True)\n",
      "  (11): LogSoftmax(dim=1)\n",
      ")\n"
     ]
    }
   ],
   "source": [
    "model = nn.Sequential(\n",
    "    nn.Linear(input_size, hidden_layers_5[0]),\n",
    "    nn.ReLU(),\n",
    "    nn.Linear(hidden_layers_5[0], hidden_layers_5[1]),\n",
    "    nn.ReLU(),\n",
    "    nn.Linear(hidden_layers_5[1], hidden_layers_5[2]),\n",
    "    nn.ReLU(),\n",
    "    nn.Linear(hidden_layers_5[2], hidden_layers_5[3]),\n",
    "    nn.ReLU(),\n",
    "    nn.Linear(hidden_layers_5[3], hidden_layers_5[4]),\n",
    "    nn.ReLU(),\n",
    "    nn.Linear(hidden_layers_5[4], output_size),\n",
    "    nn.LogSoftmax(dim=1)\n",
    ")\n",
    "print(model)"
   ]
  },
  {
   "cell_type": "code",
   "execution_count": null,
   "metadata": {
    "id": "lSeccaTS9134"
   },
   "outputs": [],
   "source": [
    "criterion = nn.CrossEntropyLoss()\n",
    "optimizer = optim.Adam(model.parameters(), lr=0.001)"
   ]
  },
  {
   "cell_type": "code",
   "execution_count": null,
   "metadata": {
    "colab": {
     "base_uri": "https://localhost:8080/"
    },
    "id": "fapsjF9R94ab",
    "outputId": "8a03a34b-26a7-49b7-bd5b-596008777e76"
   },
   "outputs": [
    {
     "name": "stdout",
     "output_type": "stream",
     "text": [
      "epoch 1:\n",
      "Train loss: 0.34533826, Train accuracy: 75.677%\n",
      "Test loss: 0.34557486, Test accuracy: 83.190%\n",
      "epoch 2:\n",
      "Train loss: 0.38401273, Train accuracy: 84.853%\n",
      "Test loss: 0.41573858, Test accuracy: 84.330%\n",
      "epoch 3:\n",
      "Train loss: 0.30247808, Train accuracy: 86.683%\n",
      "Test loss: 0.37938929, Test accuracy: 84.690%\n",
      "epoch 4:\n",
      "Train loss: 0.33037177, Train accuracy: 87.857%\n",
      "Test loss: 0.36168656, Test accuracy: 87.260%\n",
      "epoch 5:\n",
      "Train loss: 0.39935279, Train accuracy: 88.402%\n",
      "Test loss: 0.44976044, Test accuracy: 85.230%\n",
      "epoch 6:\n",
      "Train loss: 0.27857745, Train accuracy: 89.113%\n",
      "Test loss: 0.33790576, Test accuracy: 87.080%\n",
      "epoch 7:\n",
      "Train loss: 0.33803600, Train accuracy: 89.682%\n",
      "Test loss: 0.33545560, Test accuracy: 87.100%\n",
      "epoch 8:\n",
      "Train loss: 0.25329074, Train accuracy: 90.055%\n",
      "Test loss: 0.40479156, Test accuracy: 87.650%\n",
      "epoch 9:\n",
      "Train loss: 0.25663373, Train accuracy: 90.218%\n",
      "Test loss: 0.37413478, Test accuracy: 87.750%\n",
      "epoch 10:\n",
      "Train loss: 0.30265927, Train accuracy: 90.758%\n",
      "Test loss: 0.35867712, Test accuracy: 88.100%\n"
     ]
    }
   ],
   "source": [
    "epochs = 10\n",
    "train_losses_5 = []\n",
    "test_losses_5 = []\n",
    "train_correct_5 = []\n",
    "test_correct_5 = []\n",
    "for e in range(epochs):\n",
    "    trn_corr = 0\n",
    "    tst_corr = 0\n",
    "    for x_train, y_train in trainloader:\n",
    "        y_pred = model(x_train.view(x_train.shape[0], -1))\n",
    "        loss = criterion(y_pred, y_train)\n",
    "\n",
    "        predicted = torch.max(y_pred.data, 1)[1]\n",
    "        batch_corr = (predicted == y_train).sum()\n",
    "\n",
    "        trn_corr += batch_corr\n",
    "\n",
    "        optimizer.zero_grad() \n",
    "        loss.backward()\n",
    "        optimizer.step()\n",
    "        \n",
    "    train_losses_5.append(loss)\n",
    "    train_correct_5.append(trn_corr)\n",
    "\n",
    "    print(f\"epoch {e+1}:\")    \n",
    "    print(f\"Train loss: {train_losses_5[-1].item():10.8f}, Train accuracy: {train_correct_5[-1].item()/600:.3f}%\")\n",
    "\n",
    "    with torch.no_grad():\n",
    "        for x_test, y_test in testloader:\n",
    "            y_val = model(x_test.view(x_test.shape[0], -1))\n",
    "            predicted = torch.max(y_val.data, 1)[1]\n",
    "            tst_corr += (predicted == y_test).sum()\n",
    "\n",
    "    loss = criterion(y_val, y_test)\n",
    "    test_losses_5.append(loss)\n",
    "    test_correct_5.append(tst_corr)\n",
    "    print(f\"Test loss: {test_losses_5[-1].item():10.8f}, Test accuracy: {test_correct_5[-1].item()/100:.3f}%\")"
   ]
  },
  {
   "cell_type": "markdown",
   "metadata": {
    "id": "vGL7CascCJUn"
   },
   "source": [
    "#### Comparing models"
   ]
  },
  {
   "cell_type": "code",
   "execution_count": null,
   "metadata": {
    "colab": {
     "base_uri": "https://localhost:8080/",
     "height": 283
    },
    "id": "51_AoSeA9Dnr",
    "outputId": "e8847025-8f71-4edd-827a-e957fb770b0d"
   },
   "outputs": [
    {
     "data": {
      "text/plain": [
       "<matplotlib.legend.Legend at 0x7f1c879267d0>"
      ]
     },
     "execution_count": 21,
     "metadata": {},
     "output_type": "execute_result"
    },
    {
     "data": {
      "image/png": "[encoded data removed]",
      "text/plain": [
       "<Figure size 432x288 with 1 Axes>"
      ]
     },
     "metadata": {
      "needs_background": "light"
     },
     "output_type": "display_data"
    }
   ],
   "source": [
    "plt.plot([t/600 for t in train_correct_1], label='1 layer traning accuracy')\n",
    "plt.plot([t/100 for t in test_correct_1], label='1 layer validation accuracy')\n",
    "plt.plot([t/600 for t in train_correct_3], label='3 layers traning accuracy')\n",
    "plt.plot([t/100 for t in test_correct_3], label='3 layers validation accuracy')\n",
    "plt.plot([t/600 for t in train_correct_5], label='5 layers traning accuracy')\n",
    "plt.plot([t/100 for t in test_correct_5], label='5 layers validation accuracy')\n",
    "plt.legend()"
   ]
  },
  {
   "cell_type": "markdown",
   "metadata": {
    "id": "bkyM-HMXJOuv"
   },
   "source": [
    "### B) Using Dropot method"
   ]
  },
  {
   "cell_type": "code",
   "execution_count": null,
   "metadata": {
    "id": "cbUitR-vJNZ-"
   },
   "outputs": [],
   "source": [
    "hidden_layers = [180, 120, 60]"
   ]
  },
  {
   "cell_type": "code",
   "execution_count": null,
   "metadata": {
    "colab": {
     "base_uri": "https://localhost:8080/"
    },
    "id": "jO5HDIk7JhcA",
    "outputId": "aaff1fff-b14f-4ad9-ca50-93f7834834eb"
   },
   "outputs": [
    {
     "name": "stdout",
     "output_type": "stream",
     "text": [
      "Sequential(\n",
      "  (0): Linear(in_features=784, out_features=180, bias=True)\n",
      "  (1): Dropout(p=0.25, inplace=False)\n",
      "  (2): ReLU()\n",
      "  (3): Linear(in_features=180, out_features=120, bias=True)\n",
      "  (4): Dropout(p=0.25, inplace=False)\n",
      "  (5): ReLU()\n",
      "  (6): Linear(in_features=120, out_features=60, bias=True)\n",
      "  (7): Dropout(p=0.25, inplace=False)\n",
      "  (8): ReLU()\n",
      "  (9): Linear(in_features=60, out_features=10, bias=True)\n",
      "  (10): LogSoftmax(dim=1)\n",
      ")\n"
     ]
    }
   ],
   "source": [
    "model = nn.Sequential(\n",
    "    nn.Linear(input_size, hidden_layers[0]),\n",
    "    nn.Dropout(p=0.25),\n",
    "    nn.ReLU(),\n",
    "    nn.Linear(hidden_layers[0], hidden_layers[1]),\n",
    "    nn.Dropout(p=0.25),\n",
    "    nn.ReLU(),\n",
    "    nn.Linear(hidden_layers[1], hidden_layers[2]),\n",
    "    nn.Dropout(p=0.25),\n",
    "    nn.ReLU(),\n",
    "    nn.Linear(hidden_layers[2], output_size),\n",
    "    nn.LogSoftmax(dim=1)\n",
    ")\n",
    "print(model)"
   ]
  },
  {
   "cell_type": "code",
   "execution_count": null,
   "metadata": {
    "id": "ZZXtZn0gJhRb"
   },
   "outputs": [],
   "source": [
    "criterion = nn.CrossEntropyLoss()\n",
    "optimizer = optim.Adam(model.parameters(), lr=0.001)"
   ]
  },
  {
   "cell_type": "code",
   "execution_count": null,
   "metadata": {
    "colab": {
     "base_uri": "https://localhost:8080/"
    },
    "id": "wB-i8walJ6GI",
    "outputId": "c75506c1-b1dc-437b-c116-e5fa5c3570ad"
   },
   "outputs": [
    {
     "name": "stdout",
     "output_type": "stream",
     "text": [
      "epoch 1:\n",
      "Train loss: 0.44851798, Train accuracy: 73.587%\n",
      "Test loss: 0.52109396, Test accuracy: 80.970%\n",
      "epoch 2:\n",
      "Train loss: 0.44706997, Train accuracy: 83.737%\n",
      "Test loss: 0.50805664, Test accuracy: 83.640%\n",
      "epoch 3:\n",
      "Train loss: 0.50803638, Train accuracy: 85.208%\n",
      "Test loss: 0.50898063, Test accuracy: 84.530%\n",
      "epoch 4:\n",
      "Train loss: 0.42607066, Train accuracy: 86.217%\n",
      "Test loss: 0.43795782, Test accuracy: 84.330%\n",
      "epoch 5:\n",
      "Train loss: 0.53436911, Train accuracy: 86.653%\n",
      "Test loss: 0.43410692, Test accuracy: 85.440%\n",
      "epoch 6:\n",
      "Train loss: 0.42889687, Train accuracy: 87.228%\n",
      "Test loss: 0.44496340, Test accuracy: 85.720%\n",
      "epoch 7:\n",
      "Train loss: 0.38468629, Train accuracy: 87.563%\n",
      "Test loss: 0.37865743, Test accuracy: 86.370%\n",
      "epoch 8:\n",
      "Train loss: 0.39146084, Train accuracy: 87.915%\n",
      "Test loss: 0.36763194, Test accuracy: 86.420%\n",
      "epoch 9:\n",
      "Train loss: 0.32894817, Train accuracy: 88.163%\n",
      "Test loss: 0.38844419, Test accuracy: 86.740%\n",
      "epoch 10:\n",
      "Train loss: 0.26653674, Train accuracy: 88.305%\n",
      "Test loss: 0.38638222, Test accuracy: 87.050%\n"
     ]
    }
   ],
   "source": [
    "epochs = 10\n",
    "train_losses = []\n",
    "test_losses = []\n",
    "train_correct = []\n",
    "test_correct = []\n",
    "for e in range(epochs):\n",
    "    trn_corr = 0\n",
    "    tst_corr = 0\n",
    "    for x_train, y_train in trainloader:\n",
    "        y_pred = model(x_train.view(x_train.shape[0], -1))\n",
    "        loss = criterion(y_pred, y_train)\n",
    "\n",
    "        predicted = torch.max(y_pred.data, 1)[1]\n",
    "        batch_corr = (predicted == y_train).sum()\n",
    "\n",
    "        trn_corr += batch_corr\n",
    "\n",
    "        optimizer.zero_grad() \n",
    "        loss.backward()\n",
    "        optimizer.step()\n",
    "        \n",
    "    train_losses.append(loss)\n",
    "    train_correct.append(trn_corr)\n",
    "\n",
    "    print(f\"epoch {e+1}:\")    \n",
    "    print(f\"Train loss: {train_losses[-1].item():10.8f}, Train accuracy: {train_correct[-1].item()/600:.3f}%\")\n",
    "\n",
    "    with torch.no_grad():\n",
    "        for x_test, y_test in testloader:\n",
    "            y_val = model(x_test.view(x_test.shape[0], -1))\n",
    "            predicted = torch.max(y_val.data, 1)[1]\n",
    "            tst_corr += (predicted == y_test).sum()\n",
    "\n",
    "    loss = criterion(y_val, y_test)\n",
    "    test_losses.append(loss)\n",
    "    test_correct.append(tst_corr)\n",
    "    print(f\"Test loss: {test_losses[-1].item():10.8f}, Test accuracy: {test_correct[-1].item()/100:.3f}%\")"
   ]
  },
  {
   "cell_type": "code",
   "execution_count": null,
   "metadata": {
    "colab": {
     "base_uri": "https://localhost:8080/",
     "height": 283
    },
    "id": "qB75CFFRKAfK",
    "outputId": "b2d0ee72-4dd8-4a46-f51b-ef48644e553e"
   },
   "outputs": [
    {
     "data": {
      "text/plain": [
       "<matplotlib.legend.Legend at 0x7f1c87807bd0>"
      ]
     },
     "execution_count": 26,
     "metadata": {},
     "output_type": "execute_result"
    },
    {
     "data": {
      "image/png": "[encoded data removed]",
      "text/plain": [
       "<Figure size 432x288 with 1 Axes>"
      ]
     },
     "metadata": {
      "needs_background": "light"
     },
     "output_type": "display_data"
    }
   ],
   "source": [
    "plt.plot([t/600 for t in train_correct_3], label='3 layers traning accuracy')\n",
    "plt.plot([t/100 for t in test_correct_3], label='3 layers validation accuracy')\n",
    "plt.plot([t/600 for t in train_correct], label='3 layers traning accuracy with dropout')\n",
    "plt.plot([t/100 for t in test_correct], label='3 layers validation accuracy with dropout')\n",
    "plt.legend()"
   ]
  },
  {
   "cell_type": "markdown",
   "metadata": {
    "id": "sCTf3kxG0sF_"
   },
   "source": [
    "### C) Early Stopping"
   ]
  },
  {
   "cell_type": "markdown",
   "metadata": {
    "id": "9yms4wfg-JiT"
   },
   "source": [
    "from [github](https://github.com/Bjarten/early-stopping-pytorch/blob/master/pytorchtools.py)\n",
    "\n"
   ]
  },
  {
   "cell_type": "code",
   "execution_count": null,
   "metadata": {
    "id": "p_IRDVsL-ExD"
   },
   "outputs": [],
   "source": [
    "class EarlyStopping:\n",
    "    \"\"\"Early stops the training if validation loss doesn't improve after a given patience.\"\"\"\n",
    "    def __init__(self, patience=7, verbose=False, delta=0, path='checkpoint.pt', trace_func=print):\n",
    "        \"\"\"\n",
    "        Args:\n",
    "            patience (int): How long to wait after last time validation loss improved.\n",
    "                            Default: 7\n",
    "            verbose (bool): If True, prints a message for each validation loss improvement. \n",
    "                            Default: False\n",
    "            delta (float): Minimum change in the monitored quantity to qualify as an improvement.\n",
    "                            Default: 0\n",
    "            path (str): Path for the checkpoint to be saved to.\n",
    "                            Default: 'checkpoint.pt'\n",
    "            trace_func (function): trace print function.\n",
    "                            Default: print            \n",
    "        \"\"\"\n",
    "        self.patience = patience\n",
    "        self.verbose = verbose\n",
    "        self.counter = 0\n",
    "        self.best_score = None\n",
    "        self.early_stop = False\n",
    "        self.val_loss_min = np.Inf\n",
    "        self.delta = delta\n",
    "        self.path = path\n",
    "        self.trace_func = trace_func\n",
    "    def __call__(self, val_loss, model):\n",
    "\n",
    "        score = -val_loss\n",
    "\n",
    "        if self.best_score is None:\n",
    "            self.best_score = score\n",
    "            self.save_checkpoint(val_loss, model)\n",
    "        elif score < self.best_score + self.delta:\n",
    "            self.counter += 1\n",
    "            self.trace_func(f'EarlyStopping counter: {self.counter} out of {self.patience}')\n",
    "            if self.counter >= self.patience:\n",
    "                self.early_stop = True\n",
    "        else:\n",
    "            self.best_score = score\n",
    "            self.save_checkpoint(val_loss, model)\n",
    "            self.counter = 0\n",
    "\n",
    "    def save_checkpoint(self, val_loss, model):\n",
    "        '''Saves model when validation loss decrease.'''\n",
    "        if self.verbose:\n",
    "            self.trace_func(f'Validation loss decreased ({self.val_loss_min:.6f} --> {val_loss:.6f}).  Saving model ...')\n",
    "        torch.save(model.state_dict(), self.path)\n",
    "        self.val_loss_min = val_loss"
   ]
  },
  {
   "cell_type": "code",
   "execution_count": null,
   "metadata": {
    "id": "rZ3Hv8bx07EX"
   },
   "outputs": [],
   "source": [
    "hidden_layers = [180, 120, 60]"
   ]
  },
  {
   "cell_type": "code",
   "execution_count": null,
   "metadata": {
    "colab": {
     "base_uri": "https://localhost:8080/"
    },
    "id": "cVaDhmOz07Eb",
    "outputId": "ee67ab5f-5cf6-4cb3-dc5d-71ded747b5f7"
   },
   "outputs": [
    {
     "name": "stdout",
     "output_type": "stream",
     "text": [
      "Sequential(\n",
      "  (0): Linear(in_features=784, out_features=180, bias=True)\n",
      "  (1): ReLU()\n",
      "  (2): Linear(in_features=180, out_features=120, bias=True)\n",
      "  (3): ReLU()\n",
      "  (4): Linear(in_features=120, out_features=60, bias=True)\n",
      "  (5): ReLU()\n",
      "  (6): Linear(in_features=60, out_features=10, bias=True)\n",
      "  (7): LogSoftmax(dim=1)\n",
      ")\n"
     ]
    }
   ],
   "source": [
    "model = nn.Sequential(\n",
    "    nn.Linear(input_size, hidden_layers[0]),\n",
    "    nn.ReLU(),\n",
    "    nn.Linear(hidden_layers[0], hidden_layers[1]),\n",
    "    nn.ReLU(),\n",
    "    nn.Linear(hidden_layers[1], hidden_layers[2]),\n",
    "    nn.ReLU(),\n",
    "    nn.Linear(hidden_layers[2], output_size),\n",
    "    nn.LogSoftmax(dim=1)\n",
    ")\n",
    "print(model)"
   ]
  },
  {
   "cell_type": "code",
   "execution_count": null,
   "metadata": {
    "id": "ucxuI4Gm07Ed"
   },
   "outputs": [],
   "source": [
    "criterion = nn.CrossEntropyLoss()\n",
    "optimizer = optim.Adam(model.parameters(), lr=0.001)"
   ]
  },
  {
   "cell_type": "code",
   "execution_count": null,
   "metadata": {
    "id": "PVwId6z079Zt"
   },
   "outputs": [],
   "source": [
    "early_stopping = EarlyStopping(patience=5, verbose=True)"
   ]
  },
  {
   "cell_type": "code",
   "execution_count": null,
   "metadata": {
    "colab": {
     "base_uri": "https://localhost:8080/"
    },
    "id": "nWMBF10t07Ee",
    "outputId": "2ca7adfc-1f70-488f-81cd-cac93ffff299"
   },
   "outputs": [
    {
     "name": "stdout",
     "output_type": "stream",
     "text": [
      "epoch 0:\n",
      "Train loss: 0.38619816, Train accuracy: 77.980%\n",
      "Test loss: 0.43622357, Test accuracy: 83.800%\n",
      "Validation loss decreased (inf --> 0.436224).  Saving model ...\n",
      "epoch 1:\n",
      "Train loss: 0.25686991, Train accuracy: 85.517%\n",
      "Test loss: 0.40732920, Test accuracy: 84.920%\n",
      "Validation loss decreased (0.436224 --> 0.421776).  Saving model ...\n",
      "epoch 2:\n",
      "Train loss: 0.24844140, Train accuracy: 86.935%\n",
      "Test loss: 0.43211615, Test accuracy: 85.740%\n",
      "EarlyStopping counter: 1 out of 5\n",
      "epoch 3:\n",
      "Train loss: 0.39125064, Train accuracy: 88.052%\n",
      "Test loss: 0.40442434, Test accuracy: 85.100%\n",
      "Validation loss decreased (0.421776 --> 0.420023).  Saving model ...\n",
      "epoch 4:\n",
      "Train loss: 0.22247702, Train accuracy: 88.563%\n",
      "Test loss: 0.32212332, Test accuracy: 87.240%\n",
      "Validation loss decreased (0.420023 --> 0.400443).  Saving model ...\n",
      "epoch 5:\n",
      "Train loss: 0.18813394, Train accuracy: 89.185%\n",
      "Test loss: 0.41567793, Test accuracy: 87.560%\n",
      "EarlyStopping counter: 1 out of 5\n",
      "epoch 6:\n",
      "Train loss: 0.25446415, Train accuracy: 89.587%\n",
      "Test loss: 0.30545542, Test accuracy: 87.690%\n",
      "Validation loss decreased (0.400443 --> 0.389050).  Saving model ...\n",
      "epoch 7:\n",
      "Train loss: 0.28187305, Train accuracy: 90.007%\n",
      "Test loss: 0.32869971, Test accuracy: 88.860%\n",
      "Validation loss decreased (0.389050 --> 0.381506).  Saving model ...\n",
      "epoch 8:\n",
      "Train loss: 0.11910858, Train accuracy: 90.452%\n",
      "Test loss: 0.39333016, Test accuracy: 87.850%\n",
      "EarlyStopping counter: 1 out of 5\n",
      "epoch 9:\n",
      "Train loss: 0.17500639, Train accuracy: 90.703%\n",
      "Test loss: 0.34376833, Test accuracy: 88.380%\n",
      "Validation loss decreased (0.381506 --> 0.378915).  Saving model ...\n",
      "epoch 10:\n",
      "Train loss: 0.22732635, Train accuracy: 90.872%\n",
      "Test loss: 0.30701223, Test accuracy: 88.580%\n",
      "Validation loss decreased (0.378915 --> 0.372378).  Saving model ...\n",
      "epoch 11:\n",
      "Train loss: 0.22836155, Train accuracy: 91.143%\n",
      "Test loss: 0.35968938, Test accuracy: 88.950%\n",
      "Validation loss decreased (0.372378 --> 0.371321).  Saving model ...\n",
      "epoch 12:\n",
      "Train loss: 0.29875010, Train accuracy: 91.555%\n",
      "Test loss: 0.37397474, Test accuracy: 87.250%\n",
      "EarlyStopping counter: 1 out of 5\n",
      "epoch 13:\n",
      "Train loss: 0.21776289, Train accuracy: 91.908%\n",
      "Test loss: 0.34503815, Test accuracy: 88.140%\n",
      "Validation loss decreased (0.371321 --> 0.369633).  Saving model ...\n",
      "epoch 14:\n",
      "Train loss: 0.09396059, Train accuracy: 91.923%\n",
      "Test loss: 0.40893710, Test accuracy: 88.620%\n",
      "EarlyStopping counter: 1 out of 5\n",
      "epoch 15:\n",
      "Train loss: 0.18865259, Train accuracy: 92.348%\n",
      "Test loss: 0.34545875, Test accuracy: 88.710%\n",
      "EarlyStopping counter: 2 out of 5\n",
      "epoch 16:\n",
      "Train loss: 0.15419874, Train accuracy: 92.427%\n",
      "Test loss: 0.27633050, Test accuracy: 89.200%\n",
      "Validation loss decreased (0.369633 --> 0.365035).  Saving model ...\n",
      "epoch 17:\n",
      "Train loss: 0.23761021, Train accuracy: 92.710%\n",
      "Test loss: 0.40694034, Test accuracy: 89.060%\n",
      "EarlyStopping counter: 1 out of 5\n",
      "epoch 18:\n",
      "Train loss: 0.15382586, Train accuracy: 93.065%\n",
      "Test loss: 0.24740340, Test accuracy: 88.940%\n",
      "Validation loss decreased (0.365035 --> 0.361049).  Saving model ...\n",
      "epoch 19:\n",
      "Train loss: 0.16728155, Train accuracy: 93.200%\n",
      "Test loss: 0.39195263, Test accuracy: 88.660%\n",
      "EarlyStopping counter: 1 out of 5\n",
      "epoch 20:\n",
      "Train loss: 0.17485178, Train accuracy: 93.298%\n",
      "Test loss: 0.37590098, Test accuracy: 88.290%\n",
      "EarlyStopping counter: 2 out of 5\n",
      "epoch 21:\n",
      "Train loss: 0.10144807, Train accuracy: 93.670%\n",
      "Test loss: 0.39901048, Test accuracy: 88.730%\n",
      "EarlyStopping counter: 3 out of 5\n",
      "epoch 22:\n",
      "Train loss: 0.19551541, Train accuracy: 93.812%\n",
      "Test loss: 0.31511363, Test accuracy: 89.270%\n",
      "EarlyStopping counter: 4 out of 5\n",
      "epoch 23:\n",
      "Train loss: 0.12323213, Train accuracy: 93.980%\n",
      "Test loss: 0.33979699, Test accuracy: 88.350%\n",
      "EarlyStopping counter: 5 out of 5\n",
      "Early stopping\n"
     ]
    }
   ],
   "source": [
    "epochs = 25\n",
    "train_losses = []\n",
    "test_losses = []\n",
    "train_correct = []\n",
    "test_correct = []\n",
    "for e in range(epochs):\n",
    "    trn_corr = 0\n",
    "    tst_corr = 0\n",
    "    for x_train, y_train in trainloader:\n",
    "        y_pred = model(x_train.view(x_train.shape[0], -1))\n",
    "        loss = criterion(y_pred, y_train)\n",
    "\n",
    "        predicted = torch.max(y_pred.data, 1)[1]\n",
    "        batch_corr = (predicted == y_train).sum()\n",
    "\n",
    "        trn_corr += batch_corr\n",
    "\n",
    "        optimizer.zero_grad() \n",
    "        loss.backward()\n",
    "        optimizer.step()\n",
    "        \n",
    "    train_losses.append(loss)\n",
    "    train_correct.append(trn_corr)\n",
    "\n",
    "    print(f\"epoch {e}:\")    \n",
    "    print(f\"Train loss: {train_losses[-1].item():10.8f}, Train accuracy: {train_correct[-1].item()/600:.3f}%\")\n",
    "\n",
    "    with torch.no_grad():\n",
    "        for x_test, y_test in testloader:\n",
    "            y_val = model(x_test.view(x_test.shape[0], -1))\n",
    "            predicted = torch.max(y_val.data, 1)[1]\n",
    "            tst_corr += (predicted == y_test).sum()\n",
    "\n",
    "    loss = criterion(y_val, y_test)\n",
    "    test_losses.append(loss.item())\n",
    "    test_correct.append(tst_corr)\n",
    "    print(f\"Test loss: {test_losses[-1]:10.8f}, Test accuracy: {test_correct[-1]/100:.3f}%\")\n",
    "\n",
    "    test_loss = np.average(test_losses)\n",
    "    early_stopping(test_loss, model)\n",
    "        \n",
    "    if early_stopping.early_stop:\n",
    "        print(\"Early stopping\")\n",
    "        break"
   ]
  },
  {
   "cell_type": "code",
   "execution_count": null,
   "metadata": {
    "colab": {
     "base_uri": "https://localhost:8080/",
     "height": 285
    },
    "id": "9fHzTxOp07Ef",
    "outputId": "5c3fd2be-5c31-4c6b-e97b-3b664465396e"
   },
   "outputs": [
    {
     "data": {
      "text/plain": [
       "<matplotlib.legend.Legend at 0x7f1c87847ad0>"
      ]
     },
     "execution_count": 33,
     "metadata": {},
     "output_type": "execute_result"
    },
    {
     "data": {
      "image/png": "[encoded data removed]",
      "text/plain": [
       "<Figure size 432x288 with 1 Axes>"
      ]
     },
     "metadata": {
      "needs_background": "light"
     },
     "output_type": "display_data"
    }
   ],
   "source": [
    "plt.plot([t.item() for t in train_losses], label='traning loss')\n",
    "plt.plot([t for t in test_losses], label='validation loss')\n",
    "plt.legend()"
   ]
  },
  {
   "cell_type": "markdown",
   "metadata": {
    "id": "56xdFoEiXRzp"
   },
   "source": [
    "### D) Batch Normalization"
   ]
  },
  {
   "cell_type": "code",
   "execution_count": null,
   "metadata": {
    "id": "PBS8ifuxdz-n"
   },
   "outputs": [],
   "source": [
    "hidden_layers = [180, 120, 60]"
   ]
  },
  {
   "cell_type": "code",
   "execution_count": null,
   "metadata": {
    "colab": {
     "base_uri": "https://localhost:8080/"
    },
    "id": "-wHHRBlKdz-x",
    "outputId": "036b895b-68d3-4e8c-b12d-bb5034af8680"
   },
   "outputs": [
    {
     "name": "stdout",
     "output_type": "stream",
     "text": [
      "Sequential(\n",
      "  (0): Linear(in_features=784, out_features=180, bias=True)\n",
      "  (1): BatchNorm1d(180, eps=1e-05, momentum=0.1, affine=True, track_running_stats=True)\n",
      "  (2): ReLU()\n",
      "  (3): Linear(in_features=180, out_features=120, bias=True)\n",
      "  (4): BatchNorm1d(120, eps=1e-05, momentum=0.1, affine=True, track_running_stats=True)\n",
      "  (5): ReLU()\n",
      "  (6): Linear(in_features=120, out_features=60, bias=True)\n",
      "  (7): BatchNorm1d(60, eps=1e-05, momentum=0.1, affine=True, track_running_stats=True)\n",
      "  (8): ReLU()\n",
      "  (9): Linear(in_features=60, out_features=10, bias=True)\n",
      "  (10): LogSoftmax(dim=1)\n",
      ")\n"
     ]
    }
   ],
   "source": [
    "model = nn.Sequential(\n",
    "    nn.Linear(input_size, hidden_layers[0]),\n",
    "    nn.BatchNorm1d(hidden_layers[0]),\n",
    "    nn.ReLU(),\n",
    "    nn.Linear(hidden_layers[0], hidden_layers[1]),\n",
    "    nn.BatchNorm1d(hidden_layers[1]),\n",
    "    nn.ReLU(),\n",
    "    nn.Linear(hidden_layers[1], hidden_layers[2]),\n",
    "    nn.BatchNorm1d(hidden_layers[2]),\n",
    "    nn.ReLU(),\n",
    "    nn.Linear(hidden_layers[2], output_size),\n",
    "    nn.LogSoftmax(dim=1)\n",
    ")\n",
    "print(model)"
   ]
  },
  {
   "cell_type": "code",
   "execution_count": null,
   "metadata": {
    "id": "unQqgHMQdz-x"
   },
   "outputs": [],
   "source": [
    "criterion = nn.CrossEntropyLoss()\n",
    "optimizer = optim.Adam(model.parameters(), lr=0.001)"
   ]
  },
  {
   "cell_type": "code",
   "execution_count": null,
   "metadata": {
    "colab": {
     "base_uri": "https://localhost:8080/"
    },
    "id": "Bpm7j7MCdz-x",
    "outputId": "c4e31258-aa5c-4eea-d96a-a6e12fd738ae"
   },
   "outputs": [
    {
     "name": "stdout",
     "output_type": "stream",
     "text": [
      "epoch 1:\n",
      "Train loss: 0.47719422, Train accuracy: 83.825%\n",
      "Test loss: 0.44757530, Test accuracy: 86.570%\n",
      "epoch 2:\n",
      "Train loss: 0.17830056, Train accuracy: 87.610%\n",
      "Test loss: 0.30890012, Test accuracy: 87.330%\n",
      "epoch 3:\n",
      "Train loss: 0.28351155, Train accuracy: 88.725%\n",
      "Test loss: 0.34945002, Test accuracy: 87.360%\n",
      "epoch 4:\n",
      "Train loss: 0.24593376, Train accuracy: 89.643%\n",
      "Test loss: 0.25803220, Test accuracy: 88.560%\n",
      "epoch 5:\n",
      "Train loss: 0.27115104, Train accuracy: 90.400%\n",
      "Test loss: 0.26840001, Test accuracy: 88.600%\n",
      "epoch 6:\n",
      "Train loss: 0.23140742, Train accuracy: 91.012%\n",
      "Test loss: 0.34543738, Test accuracy: 88.100%\n",
      "epoch 7:\n",
      "Train loss: 0.37479335, Train accuracy: 91.578%\n",
      "Test loss: 0.27346975, Test accuracy: 88.780%\n",
      "epoch 8:\n",
      "Train loss: 0.23388711, Train accuracy: 92.152%\n",
      "Test loss: 0.28537071, Test accuracy: 88.740%\n",
      "epoch 9:\n",
      "Train loss: 0.23418237, Train accuracy: 92.297%\n",
      "Test loss: 0.29014727, Test accuracy: 88.620%\n",
      "epoch 10:\n",
      "Train loss: 0.20498918, Train accuracy: 92.917%\n",
      "Test loss: 0.33689249, Test accuracy: 89.340%\n"
     ]
    }
   ],
   "source": [
    "epochs = 10\n",
    "train_losses = []\n",
    "test_losses = []\n",
    "train_correct = []\n",
    "test_correct = []\n",
    "for e in range(epochs):\n",
    "    trn_corr = 0\n",
    "    tst_corr = 0\n",
    "    for x_train, y_train in trainloader:\n",
    "        y_pred = model(x_train.view(x_train.shape[0], -1))\n",
    "        loss = criterion(y_pred, y_train)\n",
    "\n",
    "        predicted = torch.max(y_pred.data, 1)[1]\n",
    "        batch_corr = (predicted == y_train).sum()\n",
    "\n",
    "        trn_corr += batch_corr\n",
    "\n",
    "        optimizer.zero_grad() \n",
    "        loss.backward()\n",
    "        optimizer.step()\n",
    "        \n",
    "    train_losses.append(loss)\n",
    "    train_correct.append(trn_corr)\n",
    "\n",
    "    print(f\"epoch {e+1}:\")    \n",
    "    print(f\"Train loss: {train_losses[-1].item():10.8f}, Train accuracy: {train_correct[-1].item()/600:.3f}%\")\n",
    "\n",
    "    with torch.no_grad():\n",
    "        for x_test, y_test in testloader:\n",
    "            y_val = model(x_test.view(x_test.shape[0], -1))\n",
    "            predicted = torch.max(y_val.data, 1)[1]\n",
    "            tst_corr += (predicted == y_test).sum()\n",
    "\n",
    "    loss = criterion(y_val, y_test)\n",
    "    test_losses.append(loss)\n",
    "    test_correct.append(tst_corr)\n",
    "    print(f\"Test loss: {test_losses[-1].item():10.8f}, Test accuracy: {test_correct[-1].item()/100:.3f}%\")"
   ]
  },
  {
   "cell_type": "code",
   "execution_count": null,
   "metadata": {
    "colab": {
     "base_uri": "https://localhost:8080/",
     "height": 283
    },
    "id": "QFKbxtG1e8tS",
    "outputId": "03d77cf1-9107-49ca-c951-b81ebb11c262"
   },
   "outputs": [
    {
     "data": {
      "text/plain": [
       "<matplotlib.legend.Legend at 0x7f1c8770ed90>"
      ]
     },
     "execution_count": 38,
     "metadata": {},
     "output_type": "execute_result"
    },
    {
     "data": {
      "image/png": "[encoded data removed]",
      "text/plain": [
       "<Figure size 432x288 with 1 Axes>"
      ]
     },
     "metadata": {
      "needs_background": "light"
     },
     "output_type": "display_data"
    }
   ],
   "source": [
    "plt.plot([t/600 for t in train_correct_3], label='3 layers traning accuracy')\n",
    "plt.plot([t/100 for t in test_correct_3], label='3 layers validation accuracy')\n",
    "plt.plot([t/600 for t in train_correct], label='3 layers traning accuracy with normalization')\n",
    "plt.plot([t/100 for t in test_correct], label='3 layers validation accuracy with normalization')\n",
    "plt.legend()"
   ]
  },
  {
   "cell_type": "markdown",
   "metadata": {
    "id": "EjeIEKVRtGzf"
   },
   "source": [
    "### E)Regularization"
   ]
  },
  {
   "cell_type": "markdown",
   "metadata": {
    "id": "CAeY8gGtuSD3"
   },
   "source": [
    "#### 1) L1 Regularization"
   ]
  },
  {
   "cell_type": "code",
   "execution_count": null,
   "metadata": {
    "id": "ikhEoeAxutnE"
   },
   "outputs": [],
   "source": [
    "hidden_layers = [180, 120, 60]"
   ]
  },
  {
   "cell_type": "code",
   "execution_count": null,
   "metadata": {
    "colab": {
     "base_uri": "https://localhost:8080/"
    },
    "id": "0cvKG-jtutnE",
    "outputId": "b7baa8f7-d103-48b3-c684-c4482e083e6c"
   },
   "outputs": [
    {
     "name": "stdout",
     "output_type": "stream",
     "text": [
      "Sequential(\n",
      "  (0): Linear(in_features=784, out_features=180, bias=True)\n",
      "  (1): ReLU()\n",
      "  (2): Linear(in_features=180, out_features=120, bias=True)\n",
      "  (3): ReLU()\n",
      "  (4): Linear(in_features=120, out_features=60, bias=True)\n",
      "  (5): ReLU()\n",
      "  (6): Linear(in_features=60, out_features=10, bias=True)\n",
      "  (7): LogSoftmax(dim=1)\n",
      ")\n"
     ]
    }
   ],
   "source": [
    "model = nn.Sequential(\n",
    "    nn.Linear(input_size, hidden_layers[0]),\n",
    "    nn.ReLU(),\n",
    "    nn.Linear(hidden_layers[0], hidden_layers[1]),\n",
    "    nn.ReLU(),\n",
    "    nn.Linear(hidden_layers[1], hidden_layers[2]),\n",
    "    nn.ReLU(),\n",
    "    nn.Linear(hidden_layers[2], output_size),\n",
    "    nn.LogSoftmax(dim=1)\n",
    ")\n",
    "print(model)"
   ]
  },
  {
   "cell_type": "code",
   "execution_count": null,
   "metadata": {
    "id": "emBqBLHnutnE"
   },
   "outputs": [],
   "source": [
    "criterion = nn.CrossEntropyLoss()\n",
    "optimizer = optim.Adam(model.parameters(), lr=0.001)"
   ]
  },
  {
   "cell_type": "code",
   "execution_count": null,
   "metadata": {
    "colab": {
     "base_uri": "https://localhost:8080/"
    },
    "id": "Y_qUanWOutnF",
    "outputId": "4739db41-858e-4dcc-f605-4232bb68633c"
   },
   "outputs": [
    {
     "name": "stdout",
     "output_type": "stream",
     "text": [
      "epoch 1:\n",
      "Train loss: 1.22274899, Train accuracy: 62.923%\n",
      "Test loss: 0.77216190, Test accuracy: 72.940%\n",
      "epoch 2:\n",
      "Train loss: 1.03889942, Train accuracy: 75.738%\n",
      "Test loss: 0.69148886, Test accuracy: 77.180%\n",
      "epoch 3:\n",
      "Train loss: 0.84731364, Train accuracy: 78.412%\n",
      "Test loss: 0.65636051, Test accuracy: 78.180%\n",
      "epoch 4:\n",
      "Train loss: 0.86270702, Train accuracy: 79.827%\n",
      "Test loss: 0.58518380, Test accuracy: 79.190%\n",
      "epoch 5:\n",
      "Train loss: 0.93495560, Train accuracy: 80.308%\n",
      "Test loss: 0.61029744, Test accuracy: 80.040%\n",
      "epoch 6:\n",
      "Train loss: 0.77549618, Train accuracy: 80.612%\n",
      "Test loss: 0.47922608, Test accuracy: 79.700%\n",
      "epoch 7:\n",
      "Train loss: 0.86921763, Train accuracy: 81.008%\n",
      "Test loss: 0.60041088, Test accuracy: 80.630%\n",
      "epoch 8:\n",
      "Train loss: 0.67281103, Train accuracy: 80.827%\n",
      "Test loss: 0.46334934, Test accuracy: 80.870%\n",
      "epoch 9:\n",
      "Train loss: 0.76143694, Train accuracy: 81.337%\n",
      "Test loss: 0.56864178, Test accuracy: 80.580%\n",
      "epoch 10:\n",
      "Train loss: 0.66164321, Train accuracy: 81.490%\n",
      "Test loss: 0.51668185, Test accuracy: 80.390%\n"
     ]
    }
   ],
   "source": [
    "epochs = 10\n",
    "train_losses_l1 = []\n",
    "test_losses_l1 = []\n",
    "train_correct_l1 = []\n",
    "test_correct_l1 = []\n",
    "for e in range(epochs):\n",
    "    trn_corr = 0\n",
    "    tst_corr = 0\n",
    "    for x_train, y_train in trainloader:\n",
    "        y_pred = model(x_train.view(x_train.shape[0], -1))\n",
    "        loss = criterion(y_pred, y_train)\n",
    "        l1_lambda = 0.001\n",
    "        l1_norm = sum(p.abs().sum()\n",
    "                  for p in model.parameters())\n",
    " \n",
    "        loss = loss + l1_lambda * l1_norm\n",
    "\n",
    "        predicted = torch.max(y_pred.data, 1)[1]\n",
    "        batch_corr = (predicted == y_train).sum()\n",
    "\n",
    "        trn_corr += batch_corr\n",
    "\n",
    "        optimizer.zero_grad() \n",
    "        loss.backward()\n",
    "        optimizer.step()\n",
    "        \n",
    "    train_losses_l1.append(loss)\n",
    "    train_correct_l1.append(trn_corr)\n",
    "\n",
    "    print(f\"epoch {e+1}:\")    \n",
    "    print(f\"Train loss: {train_losses_l1[-1].item():10.8f}, Train accuracy: {train_correct_l1[-1].item()/600:.3f}%\")\n",
    "\n",
    "    with torch.no_grad():\n",
    "        for x_test, y_test in testloader:\n",
    "            y_val = model(x_test.view(x_test.shape[0], -1))\n",
    "            predicted = torch.max(y_val.data, 1)[1]\n",
    "            tst_corr += (predicted == y_test).sum()\n",
    "\n",
    "    loss = criterion(y_val, y_test)\n",
    "    test_losses_l1.append(loss)\n",
    "    test_correct_l1.append(tst_corr)\n",
    "    print(f\"Test loss: {test_losses_l1[-1].item():10.8f}, Test accuracy: {test_correct_l1[-1].item()/100:.3f}%\")"
   ]
  },
  {
   "cell_type": "markdown",
   "metadata": {
    "id": "sAshMaFuudBW"
   },
   "source": [
    "#### 2) L2 Regularization"
   ]
  },
  {
   "cell_type": "code",
   "execution_count": null,
   "metadata": {
    "id": "7EASKpadtGzf"
   },
   "outputs": [],
   "source": [
    "hidden_layers = [180, 120, 60]"
   ]
  },
  {
   "cell_type": "code",
   "execution_count": null,
   "metadata": {
    "colab": {
     "base_uri": "https://localhost:8080/"
    },
    "id": "1b57ROPBtGzg",
    "outputId": "1dd7c5d2-e72c-462b-cec4-7b7fe50fed0d"
   },
   "outputs": [
    {
     "name": "stdout",
     "output_type": "stream",
     "text": [
      "Sequential(\n",
      "  (0): Linear(in_features=784, out_features=180, bias=True)\n",
      "  (1): ReLU()\n",
      "  (2): Linear(in_features=180, out_features=120, bias=True)\n",
      "  (3): ReLU()\n",
      "  (4): Linear(in_features=120, out_features=60, bias=True)\n",
      "  (5): ReLU()\n",
      "  (6): Linear(in_features=60, out_features=10, bias=True)\n",
      "  (7): LogSoftmax(dim=1)\n",
      ")\n"
     ]
    }
   ],
   "source": [
    "model = nn.Sequential(\n",
    "    nn.Linear(input_size, hidden_layers[0]),\n",
    "    nn.ReLU(),\n",
    "    nn.Linear(hidden_layers[0], hidden_layers[1]),\n",
    "    nn.ReLU(),\n",
    "    nn.Linear(hidden_layers[1], hidden_layers[2]),\n",
    "    nn.ReLU(),\n",
    "    nn.Linear(hidden_layers[2], output_size),\n",
    "    nn.LogSoftmax(dim=1)\n",
    ")\n",
    "print(model)"
   ]
  },
  {
   "cell_type": "code",
   "execution_count": null,
   "metadata": {
    "id": "r8maQU2xtGzh"
   },
   "outputs": [],
   "source": [
    "criterion = nn.CrossEntropyLoss()\n",
    "optimizer = optim.Adam(model.parameters(), lr=0.001)"
   ]
  },
  {
   "cell_type": "code",
   "execution_count": null,
   "metadata": {
    "colab": {
     "base_uri": "https://localhost:8080/"
    },
    "id": "Lgsriz2GtGzh",
    "outputId": "4c1a255d-76a5-40f8-97bf-c31152334c5b"
   },
   "outputs": [
    {
     "name": "stdout",
     "output_type": "stream",
     "text": [
      "epoch 1:\n",
      "Train loss: 0.45852375, Train accuracy: 78.030%\n",
      "Test loss: 0.53499681, Test accuracy: 82.170%\n",
      "epoch 2:\n",
      "Train loss: 0.61161774, Train accuracy: 84.170%\n",
      "Test loss: 0.44215870, Test accuracy: 84.410%\n",
      "epoch 3:\n",
      "Train loss: 0.61698580, Train accuracy: 85.425%\n",
      "Test loss: 0.41284189, Test accuracy: 84.750%\n",
      "epoch 4:\n",
      "Train loss: 0.46903914, Train accuracy: 86.095%\n",
      "Test loss: 0.42654902, Test accuracy: 85.560%\n",
      "epoch 5:\n",
      "Train loss: 0.50594568, Train accuracy: 86.562%\n",
      "Test loss: 0.37762222, Test accuracy: 85.770%\n",
      "epoch 6:\n",
      "Train loss: 0.42593479, Train accuracy: 87.130%\n",
      "Test loss: 0.44115084, Test accuracy: 86.250%\n",
      "epoch 7:\n",
      "Train loss: 0.29529285, Train accuracy: 87.342%\n",
      "Test loss: 0.38935259, Test accuracy: 85.950%\n",
      "epoch 8:\n",
      "Train loss: 0.44788432, Train accuracy: 87.443%\n",
      "Test loss: 0.36271757, Test accuracy: 86.240%\n",
      "epoch 9:\n",
      "Train loss: 0.48116857, Train accuracy: 87.723%\n",
      "Test loss: 0.37498996, Test accuracy: 86.360%\n",
      "epoch 10:\n",
      "Train loss: 0.53219068, Train accuracy: 87.830%\n",
      "Test loss: 0.42284468, Test accuracy: 86.090%\n"
     ]
    }
   ],
   "source": [
    "epochs = 10\n",
    "train_losses_l2 = []\n",
    "test_losses_l2 = []\n",
    "train_correct_l2 = []\n",
    "test_correct_l2 = []\n",
    "for e in range(epochs):\n",
    "    trn_corr = 0\n",
    "    tst_corr = 0\n",
    "    for x_train, y_train in trainloader:\n",
    "        y_pred = model(x_train.view(x_train.shape[0], -1))\n",
    "        loss = criterion(y_pred, y_train)\n",
    "        l2_lambda = 0.001\n",
    "        l2_norm = sum(p.pow(2.0).sum()\n",
    "                  for p in model.parameters())\n",
    " \n",
    "        loss = loss + l2_lambda * l2_norm\n",
    "\n",
    "        predicted = torch.max(y_pred.data, 1)[1]\n",
    "        batch_corr = (predicted == y_train).sum()\n",
    "\n",
    "        trn_corr += batch_corr\n",
    "\n",
    "        optimizer.zero_grad() \n",
    "        loss.backward()\n",
    "        optimizer.step()\n",
    "        \n",
    "    train_losses_l2.append(loss)\n",
    "    train_correct_l2.append(trn_corr)\n",
    "\n",
    "    print(f\"epoch {e+1}:\")    \n",
    "    print(f\"Train loss: {train_losses_l2[-1].item():10.8f}, Train accuracy: {train_correct_l2[-1].item()/600:.3f}%\")\n",
    "\n",
    "    with torch.no_grad():\n",
    "        for x_test, y_test in testloader:\n",
    "            y_val = model(x_test.view(x_test.shape[0], -1))\n",
    "            predicted = torch.max(y_val.data, 1)[1]\n",
    "            tst_corr += (predicted == y_test).sum()\n",
    "\n",
    "    loss = criterion(y_val, y_test)\n",
    "    test_losses_l2.append(loss)\n",
    "    test_correct_l2.append(tst_corr)\n",
    "    print(f\"Test loss: {test_losses_l2[-1].item():10.8f}, Test accuracy: {test_correct_l2[-1].item()/100:.3f}%\")"
   ]
  },
  {
   "cell_type": "code",
   "execution_count": null,
   "metadata": {
    "colab": {
     "base_uri": "https://localhost:8080/",
     "height": 283
    },
    "id": "A-6iyJzcvihU",
    "outputId": "647ddfd1-a682-4afd-cf2a-31c9e70c7fd2",
    "scrolled": true
   },
   "outputs": [
    {
     "data": {
      "text/plain": [
       "<matplotlib.legend.Legend at 0x7f1c87744ad0>"
      ]
     },
     "execution_count": 47,
     "metadata": {},
     "output_type": "execute_result"
    },
    {
     "data": {
      "image/png": "[encoded data removed]",
      "text/plain": [
       "<Figure size 432x288 with 1 Axes>"
      ]
     },
     "metadata": {
      "needs_background": "light"
     },
     "output_type": "display_data"
    }
   ],
   "source": [
    "plt.plot([t/600 for t in train_correct_l1], label='traning accuracy with l1')\n",
    "plt.plot([t/100 for t in test_correct_l1], label='validation accuracy with l1')\n",
    "plt.plot([t/600 for t in train_correct_l2], label='traning accuracy with l2')\n",
    "plt.plot([t/100 for t in test_correct_l2], label='validation accuracy with l2')\n",
    "plt.legend()"
   ]
  },
  {
   "cell_type": "markdown",
   "metadata": {
    "id": "MvMj5s042hKl"
   },
   "source": [
    "### Visualization\n",
    "From [towardsdatascience](https://towardsdatascience.com/)"
   ]
  },
  {
   "cell_type": "code",
   "execution_count": null,
   "metadata": {
    "id": "qHWIPqy2LyWA"
   },
   "outputs": [],
   "source": [
    "def view_classify(img, ps):\n",
    "    ps = ps.data.numpy().squeeze()\n",
    "    fig, (ax1, ax2) = plt.subplots(figsize=(6,9), ncols=2)\n",
    "    ax1.imshow(img.resize_(1, 28, 28).numpy().squeeze())\n",
    "    ax1.axis('off')\n",
    "    ax2.barh(np.arange(10), ps)\n",
    "    ax2.set_aspect(0.1)\n",
    "    ax2.set_yticks(np.arange(10))\n",
    "    ax2.set_yticklabels(np.arange(10))\n",
    "    ax2.set_title('Class Probability')\n",
    "    ax2.set_xlim(0, 1.1)\n",
    "    plt.tight_layout()"
   ]
  },
  {
   "cell_type": "code",
   "execution_count": null,
   "metadata": {
    "colab": {
     "base_uri": "https://localhost:8080/",
     "height": 253
    },
    "id": "hFjJMLA7Lzb1",
    "outputId": "bd2c3cbe-3d63-4d81-d6ff-b1910858eb43"
   },
   "outputs": [
    {
     "data": {
      "image/png": "[encoded data removed]",
      "text/plain": [
       "<Figure size 432x648 with 2 Axes>"
      ]
     },
     "metadata": {
      "needs_background": "light"
     },
     "output_type": "display_data"
    }
   ],
   "source": [
    "# Getting the image to test\n",
    "images, labels = next(iter(trainloader))\n",
    "# Flatten the image to pass in the model\n",
    "img = images[0].view(1, 784)\n",
    "# Turn off gradients to speed up this part\n",
    "with torch.no_grad():\n",
    "    logps = model(img)\n",
    "# Output of the network are log-probabilities, need to take exponential for probabilities\n",
    "ps = torch.exp(logps)\n",
    "view_classify(img, ps)"
   ]
  }
 ],
 "metadata": {
  "colab": {
   "collapsed_sections": [
    "hOPj9HXC19np",
    "SuSvJTpMX7UF",
    "AcAuX2KhYT-A",
    "yo5jOQtD-dgT",
    "8es0RvVv-hJQ",
    "vGL7CascCJUn",
    "bkyM-HMXJOuv",
    "sCTf3kxG0sF_",
    "56xdFoEiXRzp"
   ],
   "provenance": []
  },
  "kernelspec": {
   "display_name": "Python 3 (ipykernel)",
   "language": "python",
   "name": "python3"
  },
  "language_info": {
   "codemirror_mode": {
    "name": "ipython",
    "version": 3
   },
   "file_extension": ".py",
   "mimetype": "text/x-python",
   "name": "python",
   "nbconvert_exporter": "python",
   "pygments_lexer": "ipython3",
   "version": "3.11.1"
  },
  "widgets": {
   "application/vnd.jupyter.widget-state+json": {
    "02cf1610e43b4eff94f318d36d0c4d35": {
     "model_module": "@jupyter-widgets/base",
     "model_module_version": "1.2.0",
     "model_name": "LayoutModel",
     "state": {
      "_model_module": "@jupyter-widgets/base",
      "_model_module_version": "1.2.0",
      "_model_name": "LayoutModel",
      "_view_count": null,
      "_view_module": "@jupyter-widgets/base",
      "_view_module_version": "1.2.0",
      "_view_name": "LayoutView",
      "align_content": null,
      "align_items": null,
      "align_self": null,
      "border": null,
      "bottom": null,
      "display": null,
      "flex": null,
      "flex_flow": null,
      "grid_area": null,
      "grid_auto_columns": null,
      "grid_auto_flow": null,
      "grid_auto_rows": null,
      "grid_column": null,
      "grid_gap": null,
      "grid_row": null,
      "grid_template_areas": null,
      "grid_template_columns": null,
      "grid_template_rows": null,
      "height": null,
      "justify_content": null,
      "justify_items": null,
      "left": null,
      "margin": null,
      "max_height": null,
      "max_width": null,
      "min_height": null,
      "min_width": null,
      "object_fit": null,
      "object_position": null,
      "order": null,
      "overflow": null,
      "overflow_x": null,
      "overflow_y": null,
      "padding": null,
      "right": null,
      "top": null,
      "visibility": null,
      "width": null
     }
    },
    "04d6a208695241ffa30ff751c523473a": {
     "model_module": "@jupyter-widgets/base",
     "model_module_version": "1.2.0",
     "model_name": "LayoutModel",
     "state": {
      "_model_module": "@jupyter-widgets/base",
      "_model_module_version": "1.2.0",
      "_model_name": "LayoutModel",
      "_view_count": null,
      "_view_module": "@jupyter-widgets/base",
      "_view_module_version": "1.2.0",
      "_view_name": "LayoutView",
      "align_content": null,
      "align_items": null,
      "align_self": null,
      "border": null,
      "bottom": null,
      "display": null,
      "flex": null,
      "flex_flow": null,
      "grid_area": null,
      "grid_auto_columns": null,
      "grid_auto_flow": null,
      "grid_auto_rows": null,
      "grid_column": null,
      "grid_gap": null,
      "grid_row": null,
      "grid_template_areas": null,
      "grid_template_columns": null,
      "grid_template_rows": null,
      "height": null,
      "justify_content": null,
      "justify_items": null,
      "left": null,
      "margin": null,
      "max_height": null,
      "max_width": null,
      "min_height": null,
      "min_width": null,
      "object_fit": null,
      "object_position": null,
      "order": null,
      "overflow": null,
      "overflow_x": null,
      "overflow_y": null,
      "padding": null,
      "right": null,
      "top": null,
      "visibility": null,
      "width": null
     }
    },
    "08e809d0568646949e956006d909b280": {
     "model_module": "@jupyter-widgets/controls",
     "model_module_version": "1.5.0",
     "model_name": "DescriptionStyleModel",
     "state": {
      "_model_module": "@jupyter-widgets/controls",
      "_model_module_version": "1.5.0",
      "_model_name": "DescriptionStyleModel",
      "_view_count": null,
      "_view_module": "@jupyter-widgets/base",
      "_view_module_version": "1.2.0",
      "_view_name": "StyleView",
      "description_width": ""
     }
    },
    "0ac5e22b3fcc4790a32375682959b265": {
     "model_module": "@jupyter-widgets/controls",
     "model_module_version": "1.5.0",
     "model_name": "HTMLModel",
     "state": {
      "_dom_classes": [],
      "_model_module": "@jupyter-widgets/controls",
      "_model_module_version": "1.5.0",
      "_model_name": "HTMLModel",
      "_view_count": null,
      "_view_module": "@jupyter-widgets/controls",
      "_view_module_version": "1.5.0",
      "_view_name": "HTMLView",
      "description": "",
      "description_tooltip": null,
      "layout": "IPY_MODEL_e176e20098a14008bd036b951b9d183c",
      "placeholder": "​",
      "style": "IPY_MODEL_5802fd2be8b945309a0968dbe7a1d5af",
      "value": " 4422102/4422102 [00:01&lt;00:00, 3848493.22it/s]"
     }
    },
    "0b918e0b3acd45859f62824e0e94ab51": {
     "model_module": "@jupyter-widgets/controls",
     "model_module_version": "1.5.0",
     "model_name": "DescriptionStyleModel",
     "state": {
      "_model_module": "@jupyter-widgets/controls",
      "_model_module_version": "1.5.0",
      "_model_name": "DescriptionStyleModel",
      "_view_count": null,
      "_view_module": "@jupyter-widgets/base",
      "_view_module_version": "1.2.0",
      "_view_name": "StyleView",
      "description_width": ""
     }
    },
    "11448747edaa4e53a6383c57154ecab7": {
     "model_module": "@jupyter-widgets/controls",
     "model_module_version": "1.5.0",
     "model_name": "HTMLModel",
     "state": {
      "_dom_classes": [],
      "_model_module": "@jupyter-widgets/controls",
      "_model_module_version": "1.5.0",
      "_model_name": "HTMLModel",
      "_view_count": null,
      "_view_module": "@jupyter-widgets/controls",
      "_view_module_version": "1.5.0",
      "_view_name": "HTMLView",
      "description": "",
      "description_tooltip": null,
      "layout": "IPY_MODEL_cc6f52a0d29b42ec9fd75a3de520611c",
      "placeholder": "​",
      "style": "IPY_MODEL_77df96d85dab46f3a8fa589e09b34036",
      "value": "100%"
     }
    },
    "172ad707f0854fd99c796159717a6f60": {
     "model_module": "@jupyter-widgets/controls",
     "model_module_version": "1.5.0",
     "model_name": "HBoxModel",
     "state": {
      "_dom_classes": [],
      "_model_module": "@jupyter-widgets/controls",
      "_model_module_version": "1.5.0",
      "_model_name": "HBoxModel",
      "_view_count": null,
      "_view_module": "@jupyter-widgets/controls",
      "_view_module_version": "1.5.0",
      "_view_name": "HBoxView",
      "box_style": "",
      "children": [
       "IPY_MODEL_5fe0c885d2644ba9ac05444c2b9c4a11",
       "IPY_MODEL_1782e2135ef64a03952f3ba0c182402e",
       "IPY_MODEL_0ac5e22b3fcc4790a32375682959b265"
      ],
      "layout": "IPY_MODEL_5c0387a88d67453a9ab5836f9db2861a"
     }
    },
    "1782e2135ef64a03952f3ba0c182402e": {
     "model_module": "@jupyter-widgets/controls",
     "model_module_version": "1.5.0",
     "model_name": "FloatProgressModel",
     "state": {
      "_dom_classes": [],
      "_model_module": "@jupyter-widgets/controls",
      "_model_module_version": "1.5.0",
      "_model_name": "FloatProgressModel",
      "_view_count": null,
      "_view_module": "@jupyter-widgets/controls",
      "_view_module_version": "1.5.0",
      "_view_name": "ProgressView",
      "bar_style": "success",
      "description": "",
      "description_tooltip": null,
      "layout": "IPY_MODEL_2c2de74532974f2e86e63b1a4f483820",
      "max": 4422102,
      "min": 0,
      "orientation": "horizontal",
      "style": "IPY_MODEL_e61a8379c86a4046a118bb999781ff32",
      "value": 4422102
     }
    },
    "2c2de74532974f2e86e63b1a4f483820": {
     "model_module": "@jupyter-widgets/base",
     "model_module_version": "1.2.0",
     "model_name": "LayoutModel",
     "state": {
      "_model_module": "@jupyter-widgets/base",
      "_model_module_version": "1.2.0",
      "_model_name": "LayoutModel",
      "_view_count": null,
      "_view_module": "@jupyter-widgets/base",
      "_view_module_version": "1.2.0",
      "_view_name": "LayoutView",
      "align_content": null,
      "align_items": null,
      "align_self": null,
      "border": null,
      "bottom": null,
      "display": null,
      "flex": null,
      "flex_flow": null,
      "grid_area": null,
      "grid_auto_columns": null,
      "grid_auto_flow": null,
      "grid_auto_rows": null,
      "grid_column": null,
      "grid_gap": null,
      "grid_row": null,
      "grid_template_areas": null,
      "grid_template_columns": null,
      "grid_template_rows": null,
      "height": null,
      "justify_content": null,
      "justify_items": null,
      "left": null,
      "margin": null,
      "max_height": null,
      "max_width": null,
      "min_height": null,
      "min_width": null,
      "object_fit": null,
      "object_position": null,
      "order": null,
      "overflow": null,
      "overflow_x": null,
      "overflow_y": null,
      "padding": null,
      "right": null,
      "top": null,
      "visibility": null,
      "width": null
     }
    },
    "2c6e50f3babf47d58db885e38a35afbe": {
     "model_module": "@jupyter-widgets/controls",
     "model_module_version": "1.5.0",
     "model_name": "DescriptionStyleModel",
     "state": {
      "_model_module": "@jupyter-widgets/controls",
      "_model_module_version": "1.5.0",
      "_model_name": "DescriptionStyleModel",
      "_view_count": null,
      "_view_module": "@jupyter-widgets/base",
      "_view_module_version": "1.2.0",
      "_view_name": "StyleView",
      "description_width": ""
     }
    },
    "2e73adcf840441a3a34f7903539cf12e": {
     "model_module": "@jupyter-widgets/base",
     "model_module_version": "1.2.0",
     "model_name": "LayoutModel",
     "state": {
      "_model_module": "@jupyter-widgets/base",
      "_model_module_version": "1.2.0",
      "_model_name": "LayoutModel",
      "_view_count": null,
      "_view_module": "@jupyter-widgets/base",
      "_view_module_version": "1.2.0",
      "_view_name": "LayoutView",
      "align_content": null,
      "align_items": null,
      "align_self": null,
      "border": null,
      "bottom": null,
      "display": null,
      "flex": null,
      "flex_flow": null,
      "grid_area": null,
      "grid_auto_columns": null,
      "grid_auto_flow": null,
      "grid_auto_rows": null,
      "grid_column": null,
      "grid_gap": null,
      "grid_row": null,
      "grid_template_areas": null,
      "grid_template_columns": null,
      "grid_template_rows": null,
      "height": null,
      "justify_content": null,
      "justify_items": null,
      "left": null,
      "margin": null,
      "max_height": null,
      "max_width": null,
      "min_height": null,
      "min_width": null,
      "object_fit": null,
      "object_position": null,
      "order": null,
      "overflow": null,
      "overflow_x": null,
      "overflow_y": null,
      "padding": null,
      "right": null,
      "top": null,
      "visibility": null,
      "width": null
     }
    },
    "2fa66d38eb7b402fa49713efc4b6bede": {
     "model_module": "@jupyter-widgets/base",
     "model_module_version": "1.2.0",
     "model_name": "LayoutModel",
     "state": {
      "_model_module": "@jupyter-widgets/base",
      "_model_module_version": "1.2.0",
      "_model_name": "LayoutModel",
      "_view_count": null,
      "_view_module": "@jupyter-widgets/base",
      "_view_module_version": "1.2.0",
      "_view_name": "LayoutView",
      "align_content": null,
      "align_items": null,
      "align_self": null,
      "border": null,
      "bottom": null,
      "display": null,
      "flex": null,
      "flex_flow": null,
      "grid_area": null,
      "grid_auto_columns": null,
      "grid_auto_flow": null,
      "grid_auto_rows": null,
      "grid_column": null,
      "grid_gap": null,
      "grid_row": null,
      "grid_template_areas": null,
      "grid_template_columns": null,
      "grid_template_rows": null,
      "height": null,
      "justify_content": null,
      "justify_items": null,
      "left": null,
      "margin": null,
      "max_height": null,
      "max_width": null,
      "min_height": null,
      "min_width": null,
      "object_fit": null,
      "object_position": null,
      "order": null,
      "overflow": null,
      "overflow_x": null,
      "overflow_y": null,
      "padding": null,
      "right": null,
      "top": null,
      "visibility": null,
      "width": null
     }
    },
    "3a5a7dfe5fa944a8a72c4e63c320b22e": {
     "model_module": "@jupyter-widgets/controls",
     "model_module_version": "1.5.0",
     "model_name": "DescriptionStyleModel",
     "state": {
      "_model_module": "@jupyter-widgets/controls",
      "_model_module_version": "1.5.0",
      "_model_name": "DescriptionStyleModel",
      "_view_count": null,
      "_view_module": "@jupyter-widgets/base",
      "_view_module_version": "1.2.0",
      "_view_name": "StyleView",
      "description_width": ""
     }
    },
    "43bdccc6f99e463ca4e368806a1384fe": {
     "model_module": "@jupyter-widgets/base",
     "model_module_version": "1.2.0",
     "model_name": "LayoutModel",
     "state": {
      "_model_module": "@jupyter-widgets/base",
      "_model_module_version": "1.2.0",
      "_model_name": "LayoutModel",
      "_view_count": null,
      "_view_module": "@jupyter-widgets/base",
      "_view_module_version": "1.2.0",
      "_view_name": "LayoutView",
      "align_content": null,
      "align_items": null,
      "align_self": null,
      "border": null,
      "bottom": null,
      "display": null,
      "flex": null,
      "flex_flow": null,
      "grid_area": null,
      "grid_auto_columns": null,
      "grid_auto_flow": null,
      "grid_auto_rows": null,
      "grid_column": null,
      "grid_gap": null,
      "grid_row": null,
      "grid_template_areas": null,
      "grid_template_columns": null,
      "grid_template_rows": null,
      "height": null,
      "justify_content": null,
      "justify_items": null,
      "left": null,
      "margin": null,
      "max_height": null,
      "max_width": null,
      "min_height": null,
      "min_width": null,
      "object_fit": null,
      "object_position": null,
      "order": null,
      "overflow": null,
      "overflow_x": null,
      "overflow_y": null,
      "padding": null,
      "right": null,
      "top": null,
      "visibility": null,
      "width": null
     }
    },
    "5802fd2be8b945309a0968dbe7a1d5af": {
     "model_module": "@jupyter-widgets/controls",
     "model_module_version": "1.5.0",
     "model_name": "DescriptionStyleModel",
     "state": {
      "_model_module": "@jupyter-widgets/controls",
      "_model_module_version": "1.5.0",
      "_model_name": "DescriptionStyleModel",
      "_view_count": null,
      "_view_module": "@jupyter-widgets/base",
      "_view_module_version": "1.2.0",
      "_view_name": "StyleView",
      "description_width": ""
     }
    },
    "5c0387a88d67453a9ab5836f9db2861a": {
     "model_module": "@jupyter-widgets/base",
     "model_module_version": "1.2.0",
     "model_name": "LayoutModel",
     "state": {
      "_model_module": "@jupyter-widgets/base",
      "_model_module_version": "1.2.0",
      "_model_name": "LayoutModel",
      "_view_count": null,
      "_view_module": "@jupyter-widgets/base",
      "_view_module_version": "1.2.0",
      "_view_name": "LayoutView",
      "align_content": null,
      "align_items": null,
      "align_self": null,
      "border": null,
      "bottom": null,
      "display": null,
      "flex": null,
      "flex_flow": null,
      "grid_area": null,
      "grid_auto_columns": null,
      "grid_auto_flow": null,
      "grid_auto_rows": null,
      "grid_column": null,
      "grid_gap": null,
      "grid_row": null,
      "grid_template_areas": null,
      "grid_template_columns": null,
      "grid_template_rows": null,
      "height": null,
      "justify_content": null,
      "justify_items": null,
      "left": null,
      "margin": null,
      "max_height": null,
      "max_width": null,
      "min_height": null,
      "min_width": null,
      "object_fit": null,
      "object_position": null,
      "order": null,
      "overflow": null,
      "overflow_x": null,
      "overflow_y": null,
      "padding": null,
      "right": null,
      "top": null,
      "visibility": null,
      "width": null
     }
    },
    "5fe0c885d2644ba9ac05444c2b9c4a11": {
     "model_module": "@jupyter-widgets/controls",
     "model_module_version": "1.5.0",
     "model_name": "HTMLModel",
     "state": {
      "_dom_classes": [],
      "_model_module": "@jupyter-widgets/controls",
      "_model_module_version": "1.5.0",
      "_model_name": "HTMLModel",
      "_view_count": null,
      "_view_module": "@jupyter-widgets/controls",
      "_view_module_version": "1.5.0",
      "_view_name": "HTMLView",
      "description": "",
      "description_tooltip": null,
      "layout": "IPY_MODEL_43bdccc6f99e463ca4e368806a1384fe",
      "placeholder": "​",
      "style": "IPY_MODEL_c50fe93758224ce88dff41fce50af008",
      "value": "100%"
     }
    },
    "621a7b1a6c33402b89c7737a3012016f": {
     "model_module": "@jupyter-widgets/controls",
     "model_module_version": "1.5.0",
     "model_name": "HTMLModel",
     "state": {
      "_dom_classes": [],
      "_model_module": "@jupyter-widgets/controls",
      "_model_module_version": "1.5.0",
      "_model_name": "HTMLModel",
      "_view_count": null,
      "_view_module": "@jupyter-widgets/controls",
      "_view_module_version": "1.5.0",
      "_view_name": "HTMLView",
      "description": "",
      "description_tooltip": null,
      "layout": "IPY_MODEL_02cf1610e43b4eff94f318d36d0c4d35",
      "placeholder": "​",
      "style": "IPY_MODEL_08e809d0568646949e956006d909b280",
      "value": "100%"
     }
    },
    "72c99c4f84134661b504ed19f142dda1": {
     "model_module": "@jupyter-widgets/controls",
     "model_module_version": "1.5.0",
     "model_name": "HBoxModel",
     "state": {
      "_dom_classes": [],
      "_model_module": "@jupyter-widgets/controls",
      "_model_module_version": "1.5.0",
      "_model_name": "HBoxModel",
      "_view_count": null,
      "_view_module": "@jupyter-widgets/controls",
      "_view_module_version": "1.5.0",
      "_view_name": "HBoxView",
      "box_style": "",
      "children": [
       "IPY_MODEL_ad47b1ae14c442b1b0ee2df7c35f949d",
       "IPY_MODEL_e7392bef5ddd44b6b087d400515648d7",
       "IPY_MODEL_eee6a674c1f24a3d8adbf5ddae3e53cd"
      ],
      "layout": "IPY_MODEL_a406ce1436ef412cb53b5d877c417754"
     }
    },
    "775f0f84fafc4836be9a182d20f38301": {
     "model_module": "@jupyter-widgets/controls",
     "model_module_version": "1.5.0",
     "model_name": "HTMLModel",
     "state": {
      "_dom_classes": [],
      "_model_module": "@jupyter-widgets/controls",
      "_model_module_version": "1.5.0",
      "_model_name": "HTMLModel",
      "_view_count": null,
      "_view_module": "@jupyter-widgets/controls",
      "_view_module_version": "1.5.0",
      "_view_name": "HTMLView",
      "description": "",
      "description_tooltip": null,
      "layout": "IPY_MODEL_ab7b614d6d9248ada1ecc5913c6318a6",
      "placeholder": "​",
      "style": "IPY_MODEL_3a5a7dfe5fa944a8a72c4e63c320b22e",
      "value": " 29515/29515 [00:00&lt;00:00, 121690.85it/s]"
     }
    },
    "77a9c64b73dd423d95ee45981286fa77": {
     "model_module": "@jupyter-widgets/base",
     "model_module_version": "1.2.0",
     "model_name": "LayoutModel",
     "state": {
      "_model_module": "@jupyter-widgets/base",
      "_model_module_version": "1.2.0",
      "_model_name": "LayoutModel",
      "_view_count": null,
      "_view_module": "@jupyter-widgets/base",
      "_view_module_version": "1.2.0",
      "_view_name": "LayoutView",
      "align_content": null,
      "align_items": null,
      "align_self": null,
      "border": null,
      "bottom": null,
      "display": null,
      "flex": null,
      "flex_flow": null,
      "grid_area": null,
      "grid_auto_columns": null,
      "grid_auto_flow": null,
      "grid_auto_rows": null,
      "grid_column": null,
      "grid_gap": null,
      "grid_row": null,
      "grid_template_areas": null,
      "grid_template_columns": null,
      "grid_template_rows": null,
      "height": null,
      "justify_content": null,
      "justify_items": null,
      "left": null,
      "margin": null,
      "max_height": null,
      "max_width": null,
      "min_height": null,
      "min_width": null,
      "object_fit": null,
      "object_position": null,
      "order": null,
      "overflow": null,
      "overflow_x": null,
      "overflow_y": null,
      "padding": null,
      "right": null,
      "top": null,
      "visibility": null,
      "width": null
     }
    },
    "77df96d85dab46f3a8fa589e09b34036": {
     "model_module": "@jupyter-widgets/controls",
     "model_module_version": "1.5.0",
     "model_name": "DescriptionStyleModel",
     "state": {
      "_model_module": "@jupyter-widgets/controls",
      "_model_module_version": "1.5.0",
      "_model_name": "DescriptionStyleModel",
      "_view_count": null,
      "_view_module": "@jupyter-widgets/base",
      "_view_module_version": "1.2.0",
      "_view_name": "StyleView",
      "description_width": ""
     }
    },
    "8789bbe5411d4b5cb87d07c70e651840": {
     "model_module": "@jupyter-widgets/base",
     "model_module_version": "1.2.0",
     "model_name": "LayoutModel",
     "state": {
      "_model_module": "@jupyter-widgets/base",
      "_model_module_version": "1.2.0",
      "_model_name": "LayoutModel",
      "_view_count": null,
      "_view_module": "@jupyter-widgets/base",
      "_view_module_version": "1.2.0",
      "_view_name": "LayoutView",
      "align_content": null,
      "align_items": null,
      "align_self": null,
      "border": null,
      "bottom": null,
      "display": null,
      "flex": null,
      "flex_flow": null,
      "grid_area": null,
      "grid_auto_columns": null,
      "grid_auto_flow": null,
      "grid_auto_rows": null,
      "grid_column": null,
      "grid_gap": null,
      "grid_row": null,
      "grid_template_areas": null,
      "grid_template_columns": null,
      "grid_template_rows": null,
      "height": null,
      "justify_content": null,
      "justify_items": null,
      "left": null,
      "margin": null,
      "max_height": null,
      "max_width": null,
      "min_height": null,
      "min_width": null,
      "object_fit": null,
      "object_position": null,
      "order": null,
      "overflow": null,
      "overflow_x": null,
      "overflow_y": null,
      "padding": null,
      "right": null,
      "top": null,
      "visibility": null,
      "width": null
     }
    },
    "92b29c58e33f4904815fbe22d209bdff": {
     "model_module": "@jupyter-widgets/controls",
     "model_module_version": "1.5.0",
     "model_name": "DescriptionStyleModel",
     "state": {
      "_model_module": "@jupyter-widgets/controls",
      "_model_module_version": "1.5.0",
      "_model_name": "DescriptionStyleModel",
      "_view_count": null,
      "_view_module": "@jupyter-widgets/base",
      "_view_module_version": "1.2.0",
      "_view_name": "StyleView",
      "description_width": ""
     }
    },
    "a406ce1436ef412cb53b5d877c417754": {
     "model_module": "@jupyter-widgets/base",
     "model_module_version": "1.2.0",
     "model_name": "LayoutModel",
     "state": {
      "_model_module": "@jupyter-widgets/base",
      "_model_module_version": "1.2.0",
      "_model_name": "LayoutModel",
      "_view_count": null,
      "_view_module": "@jupyter-widgets/base",
      "_view_module_version": "1.2.0",
      "_view_name": "LayoutView",
      "align_content": null,
      "align_items": null,
      "align_self": null,
      "border": null,
      "bottom": null,
      "display": null,
      "flex": null,
      "flex_flow": null,
      "grid_area": null,
      "grid_auto_columns": null,
      "grid_auto_flow": null,
      "grid_auto_rows": null,
      "grid_column": null,
      "grid_gap": null,
      "grid_row": null,
      "grid_template_areas": null,
      "grid_template_columns": null,
      "grid_template_rows": null,
      "height": null,
      "justify_content": null,
      "justify_items": null,
      "left": null,
      "margin": null,
      "max_height": null,
      "max_width": null,
      "min_height": null,
      "min_width": null,
      "object_fit": null,
      "object_position": null,
      "order": null,
      "overflow": null,
      "overflow_x": null,
      "overflow_y": null,
      "padding": null,
      "right": null,
      "top": null,
      "visibility": null,
      "width": null
     }
    },
    "a4d4b9a8afbd483d99e5df21930497b0": {
     "model_module": "@jupyter-widgets/controls",
     "model_module_version": "1.5.0",
     "model_name": "ProgressStyleModel",
     "state": {
      "_model_module": "@jupyter-widgets/controls",
      "_model_module_version": "1.5.0",
      "_model_name": "ProgressStyleModel",
      "_view_count": null,
      "_view_module": "@jupyter-widgets/base",
      "_view_module_version": "1.2.0",
      "_view_name": "StyleView",
      "bar_color": null,
      "description_width": ""
     }
    },
    "ab7b614d6d9248ada1ecc5913c6318a6": {
     "model_module": "@jupyter-widgets/base",
     "model_module_version": "1.2.0",
     "model_name": "LayoutModel",
     "state": {
      "_model_module": "@jupyter-widgets/base",
      "_model_module_version": "1.2.0",
      "_model_name": "LayoutModel",
      "_view_count": null,
      "_view_module": "@jupyter-widgets/base",
      "_view_module_version": "1.2.0",
      "_view_name": "LayoutView",
      "align_content": null,
      "align_items": null,
      "align_self": null,
      "border": null,
      "bottom": null,
      "display": null,
      "flex": null,
      "flex_flow": null,
      "grid_area": null,
      "grid_auto_columns": null,
      "grid_auto_flow": null,
      "grid_auto_rows": null,
      "grid_column": null,
      "grid_gap": null,
      "grid_row": null,
      "grid_template_areas": null,
      "grid_template_columns": null,
      "grid_template_rows": null,
      "height": null,
      "justify_content": null,
      "justify_items": null,
      "left": null,
      "margin": null,
      "max_height": null,
      "max_width": null,
      "min_height": null,
      "min_width": null,
      "object_fit": null,
      "object_position": null,
      "order": null,
      "overflow": null,
      "overflow_x": null,
      "overflow_y": null,
      "padding": null,
      "right": null,
      "top": null,
      "visibility": null,
      "width": null
     }
    },
    "ad47b1ae14c442b1b0ee2df7c35f949d": {
     "model_module": "@jupyter-widgets/controls",
     "model_module_version": "1.5.0",
     "model_name": "HTMLModel",
     "state": {
      "_dom_classes": [],
      "_model_module": "@jupyter-widgets/controls",
      "_model_module_version": "1.5.0",
      "_model_name": "HTMLModel",
      "_view_count": null,
      "_view_module": "@jupyter-widgets/controls",
      "_view_module_version": "1.5.0",
      "_view_name": "HTMLView",
      "description": "",
      "description_tooltip": null,
      "layout": "IPY_MODEL_77a9c64b73dd423d95ee45981286fa77",
      "placeholder": "​",
      "style": "IPY_MODEL_0b918e0b3acd45859f62824e0e94ab51",
      "value": "100%"
     }
    },
    "bc81be71146d4a12a37e9f87772b67bd": {
     "model_module": "@jupyter-widgets/controls",
     "model_module_version": "1.5.0",
     "model_name": "FloatProgressModel",
     "state": {
      "_dom_classes": [],
      "_model_module": "@jupyter-widgets/controls",
      "_model_module_version": "1.5.0",
      "_model_name": "FloatProgressModel",
      "_view_count": null,
      "_view_module": "@jupyter-widgets/controls",
      "_view_module_version": "1.5.0",
      "_view_name": "ProgressView",
      "bar_style": "success",
      "description": "",
      "description_tooltip": null,
      "layout": "IPY_MODEL_f0fcd120615c4db39a647272e8a24e5c",
      "max": 5148,
      "min": 0,
      "orientation": "horizontal",
      "style": "IPY_MODEL_f78ca701f6f54dc7ab35e2f3db09a84b",
      "value": 5148
     }
    },
    "bd4459f608d6476ea196e3eb28a04bf6": {
     "model_module": "@jupyter-widgets/controls",
     "model_module_version": "1.5.0",
     "model_name": "HBoxModel",
     "state": {
      "_dom_classes": [],
      "_model_module": "@jupyter-widgets/controls",
      "_model_module_version": "1.5.0",
      "_model_name": "HBoxModel",
      "_view_count": null,
      "_view_module": "@jupyter-widgets/controls",
      "_view_module_version": "1.5.0",
      "_view_name": "HBoxView",
      "box_style": "",
      "children": [
       "IPY_MODEL_11448747edaa4e53a6383c57154ecab7",
       "IPY_MODEL_bc81be71146d4a12a37e9f87772b67bd",
       "IPY_MODEL_d89d02aa4daa4ca296bd01f6153b13c6"
      ],
      "layout": "IPY_MODEL_2e73adcf840441a3a34f7903539cf12e"
     }
    },
    "c50fe93758224ce88dff41fce50af008": {
     "model_module": "@jupyter-widgets/controls",
     "model_module_version": "1.5.0",
     "model_name": "DescriptionStyleModel",
     "state": {
      "_model_module": "@jupyter-widgets/controls",
      "_model_module_version": "1.5.0",
      "_model_name": "DescriptionStyleModel",
      "_view_count": null,
      "_view_module": "@jupyter-widgets/base",
      "_view_module_version": "1.2.0",
      "_view_name": "StyleView",
      "description_width": ""
     }
    },
    "cc6f52a0d29b42ec9fd75a3de520611c": {
     "model_module": "@jupyter-widgets/base",
     "model_module_version": "1.2.0",
     "model_name": "LayoutModel",
     "state": {
      "_model_module": "@jupyter-widgets/base",
      "_model_module_version": "1.2.0",
      "_model_name": "LayoutModel",
      "_view_count": null,
      "_view_module": "@jupyter-widgets/base",
      "_view_module_version": "1.2.0",
      "_view_name": "LayoutView",
      "align_content": null,
      "align_items": null,
      "align_self": null,
      "border": null,
      "bottom": null,
      "display": null,
      "flex": null,
      "flex_flow": null,
      "grid_area": null,
      "grid_auto_columns": null,
      "grid_auto_flow": null,
      "grid_auto_rows": null,
      "grid_column": null,
      "grid_gap": null,
      "grid_row": null,
      "grid_template_areas": null,
      "grid_template_columns": null,
      "grid_template_rows": null,
      "height": null,
      "justify_content": null,
      "justify_items": null,
      "left": null,
      "margin": null,
      "max_height": null,
      "max_width": null,
      "min_height": null,
      "min_width": null,
      "object_fit": null,
      "object_position": null,
      "order": null,
      "overflow": null,
      "overflow_x": null,
      "overflow_y": null,
      "padding": null,
      "right": null,
      "top": null,
      "visibility": null,
      "width": null
     }
    },
    "cd26716191f44f14b0ea26c265949511": {
     "model_module": "@jupyter-widgets/controls",
     "model_module_version": "1.5.0",
     "model_name": "FloatProgressModel",
     "state": {
      "_dom_classes": [],
      "_model_module": "@jupyter-widgets/controls",
      "_model_module_version": "1.5.0",
      "_model_name": "FloatProgressModel",
      "_view_count": null,
      "_view_module": "@jupyter-widgets/controls",
      "_view_module_version": "1.5.0",
      "_view_name": "ProgressView",
      "bar_style": "success",
      "description": "",
      "description_tooltip": null,
      "layout": "IPY_MODEL_ea78da1823e0470390c9f8eaebe0f2e7",
      "max": 29515,
      "min": 0,
      "orientation": "horizontal",
      "style": "IPY_MODEL_d2fd950db08d48d99fd4769968f886f4",
      "value": 29515
     }
    },
    "d2fd950db08d48d99fd4769968f886f4": {
     "model_module": "@jupyter-widgets/controls",
     "model_module_version": "1.5.0",
     "model_name": "ProgressStyleModel",
     "state": {
      "_model_module": "@jupyter-widgets/controls",
      "_model_module_version": "1.5.0",
      "_model_name": "ProgressStyleModel",
      "_view_count": null,
      "_view_module": "@jupyter-widgets/base",
      "_view_module_version": "1.2.0",
      "_view_name": "StyleView",
      "bar_color": null,
      "description_width": ""
     }
    },
    "d55bc08cb1f9473799c32d0ee45a9be6": {
     "model_module": "@jupyter-widgets/base",
     "model_module_version": "1.2.0",
     "model_name": "LayoutModel",
     "state": {
      "_model_module": "@jupyter-widgets/base",
      "_model_module_version": "1.2.0",
      "_model_name": "LayoutModel",
      "_view_count": null,
      "_view_module": "@jupyter-widgets/base",
      "_view_module_version": "1.2.0",
      "_view_name": "LayoutView",
      "align_content": null,
      "align_items": null,
      "align_self": null,
      "border": null,
      "bottom": null,
      "display": null,
      "flex": null,
      "flex_flow": null,
      "grid_area": null,
      "grid_auto_columns": null,
      "grid_auto_flow": null,
      "grid_auto_rows": null,
      "grid_column": null,
      "grid_gap": null,
      "grid_row": null,
      "grid_template_areas": null,
      "grid_template_columns": null,
      "grid_template_rows": null,
      "height": null,
      "justify_content": null,
      "justify_items": null,
      "left": null,
      "margin": null,
      "max_height": null,
      "max_width": null,
      "min_height": null,
      "min_width": null,
      "object_fit": null,
      "object_position": null,
      "order": null,
      "overflow": null,
      "overflow_x": null,
      "overflow_y": null,
      "padding": null,
      "right": null,
      "top": null,
      "visibility": null,
      "width": null
     }
    },
    "d89d02aa4daa4ca296bd01f6153b13c6": {
     "model_module": "@jupyter-widgets/controls",
     "model_module_version": "1.5.0",
     "model_name": "HTMLModel",
     "state": {
      "_dom_classes": [],
      "_model_module": "@jupyter-widgets/controls",
      "_model_module_version": "1.5.0",
      "_model_name": "HTMLModel",
      "_view_count": null,
      "_view_module": "@jupyter-widgets/controls",
      "_view_module_version": "1.5.0",
      "_view_name": "HTMLView",
      "description": "",
      "description_tooltip": null,
      "layout": "IPY_MODEL_2fa66d38eb7b402fa49713efc4b6bede",
      "placeholder": "​",
      "style": "IPY_MODEL_2c6e50f3babf47d58db885e38a35afbe",
      "value": " 5148/5148 [00:00&lt;00:00, 102530.84it/s]"
     }
    },
    "e176e20098a14008bd036b951b9d183c": {
     "model_module": "@jupyter-widgets/base",
     "model_module_version": "1.2.0",
     "model_name": "LayoutModel",
     "state": {
      "_model_module": "@jupyter-widgets/base",
      "_model_module_version": "1.2.0",
      "_model_name": "LayoutModel",
      "_view_count": null,
      "_view_module": "@jupyter-widgets/base",
      "_view_module_version": "1.2.0",
      "_view_name": "LayoutView",
      "align_content": null,
      "align_items": null,
      "align_self": null,
      "border": null,
      "bottom": null,
      "display": null,
      "flex": null,
      "flex_flow": null,
      "grid_area": null,
      "grid_auto_columns": null,
      "grid_auto_flow": null,
      "grid_auto_rows": null,
      "grid_column": null,
      "grid_gap": null,
      "grid_row": null,
      "grid_template_areas": null,
      "grid_template_columns": null,
      "grid_template_rows": null,
      "height": null,
      "justify_content": null,
      "justify_items": null,
      "left": null,
      "margin": null,
      "max_height": null,
      "max_width": null,
      "min_height": null,
      "min_width": null,
      "object_fit": null,
      "object_position": null,
      "order": null,
      "overflow": null,
      "overflow_x": null,
      "overflow_y": null,
      "padding": null,
      "right": null,
      "top": null,
      "visibility": null,
      "width": null
     }
    },
    "e61a8379c86a4046a118bb999781ff32": {
     "model_module": "@jupyter-widgets/controls",
     "model_module_version": "1.5.0",
     "model_name": "ProgressStyleModel",
     "state": {
      "_model_module": "@jupyter-widgets/controls",
      "_model_module_version": "1.5.0",
      "_model_name": "ProgressStyleModel",
      "_view_count": null,
      "_view_module": "@jupyter-widgets/base",
      "_view_module_version": "1.2.0",
      "_view_name": "StyleView",
      "bar_color": null,
      "description_width": ""
     }
    },
    "e7392bef5ddd44b6b087d400515648d7": {
     "model_module": "@jupyter-widgets/controls",
     "model_module_version": "1.5.0",
     "model_name": "FloatProgressModel",
     "state": {
      "_dom_classes": [],
      "_model_module": "@jupyter-widgets/controls",
      "_model_module_version": "1.5.0",
      "_model_name": "FloatProgressModel",
      "_view_count": null,
      "_view_module": "@jupyter-widgets/controls",
      "_view_module_version": "1.5.0",
      "_view_name": "ProgressView",
      "bar_style": "success",
      "description": "",
      "description_tooltip": null,
      "layout": "IPY_MODEL_8789bbe5411d4b5cb87d07c70e651840",
      "max": 26421880,
      "min": 0,
      "orientation": "horizontal",
      "style": "IPY_MODEL_a4d4b9a8afbd483d99e5df21930497b0",
      "value": 26421880
     }
    },
    "ea78da1823e0470390c9f8eaebe0f2e7": {
     "model_module": "@jupyter-widgets/base",
     "model_module_version": "1.2.0",
     "model_name": "LayoutModel",
     "state": {
      "_model_module": "@jupyter-widgets/base",
      "_model_module_version": "1.2.0",
      "_model_name": "LayoutModel",
      "_view_count": null,
      "_view_module": "@jupyter-widgets/base",
      "_view_module_version": "1.2.0",
      "_view_name": "LayoutView",
      "align_content": null,
      "align_items": null,
      "align_self": null,
      "border": null,
      "bottom": null,
      "display": null,
      "flex": null,
      "flex_flow": null,
      "grid_area": null,
      "grid_auto_columns": null,
      "grid_auto_flow": null,
      "grid_auto_rows": null,
      "grid_column": null,
      "grid_gap": null,
      "grid_row": null,
      "grid_template_areas": null,
      "grid_template_columns": null,
      "grid_template_rows": null,
      "height": null,
      "justify_content": null,
      "justify_items": null,
      "left": null,
      "margin": null,
      "max_height": null,
      "max_width": null,
      "min_height": null,
      "min_width": null,
      "object_fit": null,
      "object_position": null,
      "order": null,
      "overflow": null,
      "overflow_x": null,
      "overflow_y": null,
      "padding": null,
      "right": null,
      "top": null,
      "visibility": null,
      "width": null
     }
    },
    "eee6a674c1f24a3d8adbf5ddae3e53cd": {
     "model_module": "@jupyter-widgets/controls",
     "model_module_version": "1.5.0",
     "model_name": "HTMLModel",
     "state": {
      "_dom_classes": [],
      "_model_module": "@jupyter-widgets/controls",
      "_model_module_version": "1.5.0",
      "_model_name": "HTMLModel",
      "_view_count": null,
      "_view_module": "@jupyter-widgets/controls",
      "_view_module_version": "1.5.0",
      "_view_name": "HTMLView",
      "description": "",
      "description_tooltip": null,
      "layout": "IPY_MODEL_04d6a208695241ffa30ff751c523473a",
      "placeholder": "​",
      "style": "IPY_MODEL_92b29c58e33f4904815fbe22d209bdff",
      "value": " 26421880/26421880 [00:14&lt;00:00, 6281900.97it/s]"
     }
    },
    "f0fcd120615c4db39a647272e8a24e5c": {
     "model_module": "@jupyter-widgets/base",
     "model_module_version": "1.2.0",
     "model_name": "LayoutModel",
     "state": {
      "_model_module": "@jupyter-widgets/base",
      "_model_module_version": "1.2.0",
      "_model_name": "LayoutModel",
      "_view_count": null,
      "_view_module": "@jupyter-widgets/base",
      "_view_module_version": "1.2.0",
      "_view_name": "LayoutView",
      "align_content": null,
      "align_items": null,
      "align_self": null,
      "border": null,
      "bottom": null,
      "display": null,
      "flex": null,
      "flex_flow": null,
      "grid_area": null,
      "grid_auto_columns": null,
      "grid_auto_flow": null,
      "grid_auto_rows": null,
      "grid_column": null,
      "grid_gap": null,
      "grid_row": null,
      "grid_template_areas": null,
      "grid_template_columns": null,
      "grid_template_rows": null,
      "height": null,
      "justify_content": null,
      "justify_items": null,
      "left": null,
      "margin": null,
      "max_height": null,
      "max_width": null,
      "min_height": null,
      "min_width": null,
      "object_fit": null,
      "object_position": null,
      "order": null,
      "overflow": null,
      "overflow_x": null,
      "overflow_y": null,
      "padding": null,
      "right": null,
      "top": null,
      "visibility": null,
      "width": null
     }
    },
    "f78ca701f6f54dc7ab35e2f3db09a84b": {
     "model_module": "@jupyter-widgets/controls",
     "model_module_version": "1.5.0",
     "model_name": "ProgressStyleModel",
     "state": {
      "_model_module": "@jupyter-widgets/controls",
      "_model_module_version": "1.5.0",
      "_model_name": "ProgressStyleModel",
      "_view_count": null,
      "_view_module": "@jupyter-widgets/base",
      "_view_module_version": "1.2.0",
      "_view_name": "StyleView",
      "bar_color": null,
      "description_width": ""
     }
    },
    "feb1cfba613b4dc9ac39002f585bf130": {
     "model_module": "@jupyter-widgets/controls",
     "model_module_version": "1.5.0",
     "model_name": "HBoxModel",
     "state": {
      "_dom_classes": [],
      "_model_module": "@jupyter-widgets/controls",
      "_model_module_version": "1.5.0",
      "_model_name": "HBoxModel",
      "_view_count": null,
      "_view_module": "@jupyter-widgets/controls",
      "_view_module_version": "1.5.0",
      "_view_name": "HBoxView",
      "box_style": "",
      "children": [
       "IPY_MODEL_621a7b1a6c33402b89c7737a3012016f",
       "IPY_MODEL_cd26716191f44f14b0ea26c265949511",
       "IPY_MODEL_775f0f84fafc4836be9a182d20f38301"
      ],
      "layout": "IPY_MODEL_d55bc08cb1f9473799c32d0ee45a9be6"
     }
    }
   }
  }
 },
 "nbformat": 4,
 "nbformat_minor": 1
}
